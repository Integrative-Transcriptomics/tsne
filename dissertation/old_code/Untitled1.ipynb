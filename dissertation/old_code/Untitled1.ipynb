{
 "cells": [
  {
   "cell_type": "code",
   "execution_count": 21,
   "id": "5b38d479-0f93-4da8-bb3a-572316b3d61d",
   "metadata": {},
   "outputs": [],
   "source": [
    "from IFD_tsne import *\n",
    "import numpy as onp\n",
    "from jax import vjp, linearize, grad\n",
    "#from utils import load_data, MidpointNormalize, equipotential_standard_normal, plot_heatmaps\n",
    "from utils import MidpointNormalize, load_data\n",
    "import seaborn as sns\n",
    "from sklearn.datasets import make_spd_matrix, make_blobs\n",
    "import matplotlib.pyplot as plt\n",
    "from tueplots.constants.color import palettes\n",
    "cmap = mpl.colors.LinearSegmentedColormap.from_list(\"\", [palettes.tue_plot[0], \"white\", palettes.tue_plot[3]])"
   ]
  },
  {
   "cell_type": "code",
   "execution_count": 3,
   "id": "6272a781-3be2-45ab-b41b-7b38ae2d679d",
   "metadata": {},
   "outputs": [],
   "source": [
    "def generate_data(n, p, random_state=0):\n",
    "    '''\n",
    "    Generates a dataset of n samples and p dimensions, such that it can be used to evaluate Monte-Carlo sampling\n",
    "    vs. VIPurPCA. It is designed in a way, that the directions of the individual PCs are clear.\n",
    "    \n",
    "    Returns\n",
    "    -------\n",
    "        A : array\n",
    "            Covariance over samples (NxN)\n",
    "        B : array\n",
    "            Covariance over features (PxP)\n",
    "        X_flat : array\n",
    "            Flattend mean matrix (NP)\n",
    "        X_unflattener : fun\n",
    "            Unflattens flattend mean back to matrix\n",
    "    '''\n",
    "    n, p = (n, p)\n",
    "    X, y = make_blobs(n_samples=n, n_features=p, centers=10, random_state=random_state, shuffle=False, cluster_std=1)\n",
    "    #key = jax.random.PRNGKey(42)\n",
    "    #X = np.arange(1, p+1) * random.uniform(key, (n, p))\n",
    "    y = None\n",
    "    B = 0.1*make_spd_matrix(p)\n",
    "    A = make_spd_matrix(n)\n",
    "    X_flat, X_unflattener = flatten_util.ravel_pytree(X)\n",
    "    return A, B, X_flat, X_unflattener, y"
   ]
  },
  {
   "cell_type": "code",
   "execution_count": 4,
   "id": "a950a417-185e-4ac1-be77-4d90077d07c7",
   "metadata": {},
   "outputs": [],
   "source": [
    "def draw_samples(key, X_flat, X_unflattener, A, B, n, p, n_iter):\n",
    "    x = jax.random.normal(key, (p, n_iter, n))\n",
    "    roll_rvs = np.tensordot(np.linalg.cholesky(B), np.dot(x, np.linalg.cholesky(A).T), 1)\n",
    "    return  np.moveaxis(roll_rvs.T, 1, 0) + X_unflattener(X_flat)[np.newaxis, :, :]\n",
    "\n",
    "def batches_mc(l, batch_size, n_iter):\n",
    "    if n_iter==0:\n",
    "        return l\n",
    "    elif int(n_iter/batch_size)==0:\n",
    "        l.append(n_iter)\n",
    "        return l    \n",
    "    else: \n",
    "        l.append(batch_size)\n",
    "        return batches_mc(l, batch_size, n_iter-batch_size)"
   ]
  },
  {
   "cell_type": "code",
   "execution_count": 5,
   "id": "d18f25cd-7483-437d-ad16-280d41656172",
   "metadata": {},
   "outputs": [],
   "source": [
    "def MC(fun, mean_flat, mean_unflattener, A, B, n_iter, batch_size):\n",
    "    '''\n",
    "    Function for Monte-Carlo sampling. Samples from a given input distribution and applies PCA to each sample.\n",
    "    \n",
    "    Params\n",
    "    -------\n",
    "        mean_flat : array\n",
    "            Flattend array to which PCA is applied\n",
    "        mean_unflattener : fun\n",
    "            Unflattens flattend mean back to matrix\n",
    "        A : array\n",
    "            Covariance over samples (NxN)\n",
    "        B : array\n",
    "            Covariance over features (PxP)\n",
    "        p_keep : int\n",
    "            Number of dimensions to keep\n",
    "        n_iter : int\n",
    "            Number of Monte-Carlo iterations\n",
    "            \n",
    "    Returns\n",
    "    -------\n",
    "        V : array (N_ITERxP_KEEPxP)\n",
    "            Stacked arrays of Eigenvector Matrices    \n",
    "    '''\n",
    "    n, p = (A.shape[0], B.shape[0])\n",
    "    key = jax.random.PRNGKey(42)\n",
    "    b = batches_mc([], batch_size, n_iter)\n",
    "    subkeys = jax.random.split(key, len(b))\n",
    "    V = np.vstack([vmap(fun)(vmap(lambda x: np.ravel(x, 'F'))(draw_samples(i, mean_flat, mean_unflattener, A, B, n, p, j))) for i, j in zip(subkeys, b)])\n",
    "    return V"
   ]
  },
  {
   "cell_type": "code",
   "execution_count": null,
   "id": "b46e83d7-cd6d-410e-99ab-62b0d57b86c9",
   "metadata": {
    "tags": []
   },
   "outputs": [
    {
     "name": "stderr",
     "output_type": "stream",
     "text": [
      "No GPU/TPU found, falling back to CPU. (Set TF_CPP_MIN_LOG_LEVEL=0 and rerun for more info.)\n"
     ]
    },
    {
     "name": "stdout",
     "output_type": "stream",
     "text": [
      "Generating samples\n",
      "Computing Monte-Carlo sampling\n"
     ]
    }
   ],
   "source": [
    "n, p = (50, 10)\n",
    "batch_size=10\n",
    "# input distribution\n",
    "print('Generating samples')\n",
    "A, B, X_flat, X_unflattener, y = generate_data(n, p)\n",
    "\n",
    "\n",
    "# MC\n",
    "print('Computing Monte-Carlo sampling')\n",
    "n_iter = 100   # Monte-Carlo iterations\n",
    "\n",
    "#X = onp.array(random.normal(key, shape=(50, 50)))\n",
    "key = random.PRNGKey(42)\n",
    "y_guess = random.normal(key, shape=(n, 2))\n",
    "#Y_star = TSNE(n_components=2, learning_rate=200, init=onp.array(y_guess), perplexity=30).fit_transform(X)\n",
    "tsne_fun = lambda x: tsne_fwd_for_MC(x, X_unflattener, y_guess)\n",
    "\n",
    "# Draw n_iter samples from the input distribution and compute PCA on each sample\n",
    "Vs, s = MC(tsne_fun, X_flat, X_unflattener, A, B, n_iter, batch_size)\n",
    "print('Correct')"
   ]
  },
  {
   "cell_type": "code",
   "execution_count": 7,
   "id": "2f9b7024-9679-4d8c-b5a9-a0f3805795ad",
   "metadata": {},
   "outputs": [
    {
     "name": "stdout",
     "output_type": "stream",
     "text": [
      "Generating samples\n",
      "Computing Monte-Carlo sampling\n"
     ]
    }
   ],
   "source": [
    "n, p = (50, 10)\n",
    "batch_size=10\n",
    "# input distribution\n",
    "print('Generating samples')\n",
    "A, B, X_flat, X_unflattener, y = generate_data(n, p)\n",
    "\n",
    "\n",
    "# MC\n",
    "print('Computing Monte-Carlo sampling')\n",
    "n_iter = 15   # Monte-Carlo iterations\n",
    "\n",
    "\n",
    "key = jax.random.PRNGKey(42)\n",
    "s = draw_samples(key, X_flat, X_unflattener, A, B, n, p, n_iter)\n"
   ]
  },
  {
   "cell_type": "code",
   "execution_count": 8,
   "id": "92affafc-b5cd-4db6-b440-d1af3adddfeb",
   "metadata": {
    "collapsed": true,
    "jupyter": {
     "outputs_hidden": true
    },
    "tags": []
   },
   "outputs": [
    {
     "name": "stdout",
     "output_type": "stream",
     "text": [
      "===> Finding 49 nearest neighbors using Annoy approximate search using euclidean distance...\n",
      "   --> Time elapsed: 0.03 seconds\n",
      "===> Calculating affinity matrix...\n",
      "   --> Time elapsed: 0.00 seconds\n",
      "===> Running optimization with exaggeration=12.00, lr=200.00 for 250 iterations...\n",
      "Iteration   50, KL divergence 0.9541, 50 iterations in 0.6759 sec\n",
      "Iteration  100, KL divergence 1.0204, 50 iterations in 0.6723 sec\n",
      "Iteration  150, KL divergence 0.9716, 50 iterations in 0.6724 sec\n",
      "Iteration  200, KL divergence 0.9781, 50 iterations in 0.6745 sec\n",
      "Iteration  250, KL divergence 1.0092, 50 iterations in 0.6746 sec\n",
      "   --> Time elapsed: 3.37 seconds\n",
      "===> Running optimization with exaggeration=1.00, lr=200.00 for 750 iterations...\n",
      "Iteration   50, KL divergence 0.0428, 50 iterations in 0.6732 sec\n",
      "Iteration  100, KL divergence 0.0302, 50 iterations in 0.6725 sec\n",
      "Iteration  150, KL divergence 0.0302, 50 iterations in 0.6717 sec\n",
      "Iteration  200, KL divergence 0.0302, 50 iterations in 0.6714 sec\n",
      "Iteration  250, KL divergence 0.0302, 50 iterations in 0.6710 sec\n",
      "Iteration  300, KL divergence 0.0302, 50 iterations in 0.6716 sec\n",
      "Iteration  350, KL divergence 0.0302, 50 iterations in 0.6735 sec\n",
      "Iteration  400, KL divergence 0.0302, 50 iterations in 0.6712 sec\n",
      "Iteration  450, KL divergence 0.0302, 50 iterations in 0.6749 sec\n",
      "Iteration  500, KL divergence 0.0302, 50 iterations in 0.6763 sec\n",
      "Iteration  550, KL divergence 0.0302, 50 iterations in 0.6752 sec\n",
      "Iteration  600, KL divergence 0.0302, 50 iterations in 0.6753 sec\n",
      "Iteration  650, KL divergence 0.0302, 50 iterations in 0.6720 sec\n",
      "Iteration  700, KL divergence 0.0302, 50 iterations in 0.6748 sec\n",
      "Iteration  750, KL divergence 0.0302, 50 iterations in 0.6790 sec\n",
      "   --> Time elapsed: 10.10 seconds\n",
      "===> Finding 49 nearest neighbors using Annoy approximate search using euclidean distance...\n",
      "   --> Time elapsed: 0.01 seconds\n",
      "===> Calculating affinity matrix...\n",
      "   --> Time elapsed: 0.00 seconds\n",
      "===> Running optimization with exaggeration=12.00, lr=200.00 for 250 iterations...\n",
      "Iteration   50, KL divergence 1.0037, 50 iterations in 0.6735 sec\n",
      "Iteration  100, KL divergence 0.9433, 50 iterations in 0.6781 sec\n",
      "Iteration  150, KL divergence 0.9714, 50 iterations in 0.6738 sec\n",
      "Iteration  200, KL divergence 0.9443, 50 iterations in 0.6725 sec\n",
      "Iteration  250, KL divergence 1.0269, 50 iterations in 0.6739 sec\n",
      "   --> Time elapsed: 3.37 seconds\n",
      "===> Running optimization with exaggeration=1.00, lr=200.00 for 750 iterations...\n",
      "Iteration   50, KL divergence 0.0445, 50 iterations in 0.6736 sec\n",
      "Iteration  100, KL divergence 0.0443, 50 iterations in 0.6726 sec\n",
      "Iteration  150, KL divergence 0.0443, 50 iterations in 0.7309 sec\n",
      "Iteration  200, KL divergence 0.0443, 50 iterations in 0.7355 sec\n",
      "Iteration  250, KL divergence 0.0443, 50 iterations in 0.6739 sec\n",
      "Iteration  300, KL divergence 0.0443, 50 iterations in 0.6735 sec\n",
      "Iteration  350, KL divergence 0.0443, 50 iterations in 0.6738 sec\n",
      "Iteration  400, KL divergence 0.0443, 50 iterations in 0.6723 sec\n",
      "Iteration  450, KL divergence 0.0443, 50 iterations in 0.6724 sec\n",
      "Iteration  500, KL divergence 0.0443, 50 iterations in 0.6724 sec\n",
      "Iteration  550, KL divergence 0.0443, 50 iterations in 0.6736 sec\n",
      "Iteration  600, KL divergence 0.0443, 50 iterations in 0.6757 sec\n",
      "Iteration  650, KL divergence 0.0443, 50 iterations in 0.6713 sec\n",
      "Iteration  700, KL divergence 0.0443, 50 iterations in 0.6714 sec\n",
      "Iteration  750, KL divergence 0.0443, 50 iterations in 0.6700 sec\n",
      "   --> Time elapsed: 10.21 seconds\n",
      "===> Finding 49 nearest neighbors using Annoy approximate search using euclidean distance...\n",
      "   --> Time elapsed: 0.01 seconds\n",
      "===> Calculating affinity matrix...\n",
      "   --> Time elapsed: 0.00 seconds\n",
      "===> Running optimization with exaggeration=12.00, lr=200.00 for 250 iterations...\n",
      "Iteration   50, KL divergence 0.9533, 50 iterations in 0.6728 sec\n",
      "Iteration  100, KL divergence 0.9797, 50 iterations in 0.6738 sec\n",
      "Iteration  150, KL divergence 0.9478, 50 iterations in 0.6745 sec\n",
      "Iteration  200, KL divergence 0.9282, 50 iterations in 0.6738 sec\n",
      "Iteration  250, KL divergence 0.9174, 50 iterations in 0.6730 sec\n",
      "   --> Time elapsed: 3.37 seconds\n",
      "===> Running optimization with exaggeration=1.00, lr=200.00 for 750 iterations...\n",
      "Iteration   50, KL divergence 0.0952, 50 iterations in 0.6758 sec\n",
      "Iteration  100, KL divergence 0.0352, 50 iterations in 0.6706 sec\n",
      "Iteration  150, KL divergence 0.0352, 50 iterations in 0.6712 sec\n",
      "Iteration  200, KL divergence 0.0352, 50 iterations in 0.6711 sec\n",
      "Iteration  250, KL divergence 0.0352, 50 iterations in 0.6706 sec\n",
      "Iteration  300, KL divergence 0.0352, 50 iterations in 0.6728 sec\n",
      "Iteration  350, KL divergence 0.0352, 50 iterations in 0.6713 sec\n",
      "Iteration  400, KL divergence 0.0352, 50 iterations in 0.6708 sec\n",
      "Iteration  450, KL divergence 0.0352, 50 iterations in 0.6716 sec\n",
      "Iteration  500, KL divergence 0.0352, 50 iterations in 0.6710 sec\n",
      "Iteration  550, KL divergence 0.0352, 50 iterations in 0.6720 sec\n",
      "Iteration  600, KL divergence 0.0352, 50 iterations in 0.6709 sec\n",
      "Iteration  650, KL divergence 0.0352, 50 iterations in 0.6758 sec\n",
      "Iteration  700, KL divergence 0.0352, 50 iterations in 0.6748 sec\n",
      "Iteration  750, KL divergence 0.0352, 50 iterations in 0.6717 sec\n",
      "   --> Time elapsed: 10.08 seconds\n",
      "===> Finding 49 nearest neighbors using Annoy approximate search using euclidean distance...\n",
      "   --> Time elapsed: 0.01 seconds\n",
      "===> Calculating affinity matrix...\n",
      "   --> Time elapsed: 0.00 seconds\n",
      "===> Running optimization with exaggeration=12.00, lr=200.00 for 250 iterations...\n",
      "Iteration   50, KL divergence 0.9361, 50 iterations in 0.6733 sec\n",
      "Iteration  100, KL divergence 0.9630, 50 iterations in 0.6729 sec\n",
      "Iteration  150, KL divergence 0.9558, 50 iterations in 0.6726 sec\n",
      "Iteration  200, KL divergence 0.9979, 50 iterations in 0.6725 sec\n",
      "Iteration  250, KL divergence 0.9488, 50 iterations in 0.6758 sec\n",
      "   --> Time elapsed: 3.37 seconds\n",
      "===> Running optimization with exaggeration=1.00, lr=200.00 for 750 iterations...\n",
      "Iteration   50, KL divergence 0.0402, 50 iterations in 0.6699 sec\n",
      "Iteration  100, KL divergence 0.0376, 50 iterations in 0.6718 sec\n",
      "Iteration  150, KL divergence 0.0376, 50 iterations in 0.6715 sec\n",
      "Iteration  200, KL divergence 0.0376, 50 iterations in 0.6710 sec\n",
      "Iteration  250, KL divergence 0.0376, 50 iterations in 0.6726 sec\n",
      "Iteration  300, KL divergence 0.0376, 50 iterations in 0.6762 sec\n",
      "Iteration  350, KL divergence 0.0376, 50 iterations in 0.7349 sec\n",
      "Iteration  400, KL divergence 0.0376, 50 iterations in 0.7342 sec\n",
      "Iteration  450, KL divergence 0.0376, 50 iterations in 0.7186 sec\n",
      "Iteration  500, KL divergence 0.0376, 50 iterations in 0.6735 sec\n",
      "Iteration  550, KL divergence 0.0376, 50 iterations in 0.6726 sec\n",
      "Iteration  600, KL divergence 0.0376, 50 iterations in 0.6714 sec\n",
      "Iteration  650, KL divergence 0.0376, 50 iterations in 0.6841 sec\n",
      "Iteration  700, KL divergence 0.0376, 50 iterations in 0.6813 sec\n",
      "Iteration  750, KL divergence 0.0376, 50 iterations in 0.6746 sec\n",
      "   --> Time elapsed: 10.28 seconds\n",
      "===> Finding 49 nearest neighbors using Annoy approximate search using euclidean distance...\n",
      "   --> Time elapsed: 0.01 seconds\n",
      "===> Calculating affinity matrix...\n",
      "   --> Time elapsed: 0.00 seconds\n",
      "===> Running optimization with exaggeration=12.00, lr=200.00 for 250 iterations...\n",
      "Iteration   50, KL divergence 0.9621, 50 iterations in 0.6743 sec\n",
      "Iteration  100, KL divergence 0.9588, 50 iterations in 0.6717 sec\n",
      "Iteration  150, KL divergence 1.0005, 50 iterations in 0.6721 sec\n",
      "Iteration  200, KL divergence 0.8710, 50 iterations in 0.6721 sec\n",
      "Iteration  250, KL divergence 0.9138, 50 iterations in 0.6698 sec\n",
      "   --> Time elapsed: 3.36 seconds\n",
      "===> Running optimization with exaggeration=1.00, lr=200.00 for 750 iterations...\n",
      "Iteration   50, KL divergence 0.0515, 50 iterations in 0.6719 sec\n",
      "Iteration  100, KL divergence 0.0317, 50 iterations in 0.6735 sec\n",
      "Iteration  150, KL divergence 0.0317, 50 iterations in 0.6757 sec\n",
      "Iteration  200, KL divergence 0.0317, 50 iterations in 0.6719 sec\n",
      "Iteration  250, KL divergence 0.0317, 50 iterations in 0.6747 sec\n",
      "Iteration  300, KL divergence 0.0317, 50 iterations in 0.6714 sec\n",
      "Iteration  350, KL divergence 0.0317, 50 iterations in 0.6729 sec\n",
      "Iteration  400, KL divergence 0.0317, 50 iterations in 0.6712 sec\n",
      "Iteration  450, KL divergence 0.0317, 50 iterations in 0.6714 sec\n",
      "Iteration  500, KL divergence 0.0317, 50 iterations in 0.6716 sec\n",
      "Iteration  550, KL divergence 0.0317, 50 iterations in 0.6702 sec\n",
      "Iteration  600, KL divergence 0.0317, 50 iterations in 0.6724 sec\n",
      "Iteration  650, KL divergence 0.0317, 50 iterations in 0.6725 sec\n",
      "Iteration  700, KL divergence 0.0317, 50 iterations in 0.6698 sec\n",
      "Iteration  750, KL divergence 0.0317, 50 iterations in 0.6689 sec\n",
      "   --> Time elapsed: 10.08 seconds\n",
      "===> Finding 49 nearest neighbors using Annoy approximate search using euclidean distance...\n",
      "   --> Time elapsed: 0.01 seconds\n",
      "===> Calculating affinity matrix...\n",
      "   --> Time elapsed: 0.00 seconds\n",
      "===> Running optimization with exaggeration=12.00, lr=200.00 for 250 iterations...\n",
      "Iteration   50, KL divergence 0.9209, 50 iterations in 0.6753 sec\n",
      "Iteration  100, KL divergence 0.9995, 50 iterations in 0.6698 sec\n",
      "Iteration  150, KL divergence 0.9490, 50 iterations in 0.6726 sec\n",
      "Iteration  200, KL divergence 1.0144, 50 iterations in 0.6730 sec\n",
      "Iteration  250, KL divergence 0.9641, 50 iterations in 0.6702 sec\n",
      "   --> Time elapsed: 3.36 seconds\n",
      "===> Running optimization with exaggeration=1.00, lr=200.00 for 750 iterations...\n",
      "Iteration   50, KL divergence 0.0489, 50 iterations in 0.6710 sec\n",
      "Iteration  100, KL divergence 0.0338, 50 iterations in 0.6780 sec\n",
      "Iteration  150, KL divergence 0.0338, 50 iterations in 0.6726 sec\n",
      "Iteration  200, KL divergence 0.0338, 50 iterations in 0.6716 sec\n",
      "Iteration  250, KL divergence 0.0338, 50 iterations in 0.6742 sec\n",
      "Iteration  300, KL divergence 0.0338, 50 iterations in 0.6708 sec\n",
      "Iteration  350, KL divergence 0.0338, 50 iterations in 0.6736 sec\n",
      "Iteration  400, KL divergence 0.0338, 50 iterations in 0.6734 sec\n",
      "Iteration  450, KL divergence 0.0338, 50 iterations in 0.6714 sec\n",
      "Iteration  500, KL divergence 0.0338, 50 iterations in 0.6726 sec\n",
      "Iteration  550, KL divergence 0.0338, 50 iterations in 0.6716 sec\n",
      "Iteration  600, KL divergence 0.0338, 50 iterations in 0.6815 sec\n",
      "Iteration  650, KL divergence 0.0338, 50 iterations in 0.7643 sec\n",
      "Iteration  700, KL divergence 0.0338, 50 iterations in 0.6884 sec\n",
      "Iteration  750, KL divergence 0.0338, 50 iterations in 0.6740 sec\n",
      "   --> Time elapsed: 10.21 seconds\n",
      "===> Finding 49 nearest neighbors using Annoy approximate search using euclidean distance...\n",
      "   --> Time elapsed: 0.01 seconds\n",
      "===> Calculating affinity matrix...\n",
      "   --> Time elapsed: 0.00 seconds\n",
      "===> Running optimization with exaggeration=12.00, lr=200.00 for 250 iterations...\n",
      "Iteration   50, KL divergence 0.9805, 50 iterations in 0.6729 sec\n",
      "Iteration  100, KL divergence 0.9609, 50 iterations in 0.6739 sec\n",
      "Iteration  150, KL divergence 0.9586, 50 iterations in 0.6750 sec\n",
      "Iteration  200, KL divergence 0.9395, 50 iterations in 0.6739 sec\n",
      "Iteration  250, KL divergence 1.0006, 50 iterations in 0.6801 sec\n",
      "   --> Time elapsed: 3.38 seconds\n",
      "===> Running optimization with exaggeration=1.00, lr=200.00 for 750 iterations...\n",
      "Iteration   50, KL divergence 0.0481, 50 iterations in 0.6731 sec\n",
      "Iteration  100, KL divergence 0.0306, 50 iterations in 0.6707 sec\n",
      "Iteration  150, KL divergence 0.0305, 50 iterations in 0.6726 sec\n",
      "Iteration  200, KL divergence 0.0305, 50 iterations in 0.6721 sec\n",
      "Iteration  250, KL divergence 0.0305, 50 iterations in 0.6718 sec\n",
      "Iteration  300, KL divergence 0.0305, 50 iterations in 0.6771 sec\n",
      "Iteration  350, KL divergence 0.0305, 50 iterations in 0.6746 sec\n",
      "Iteration  400, KL divergence 0.0305, 50 iterations in 0.6716 sec\n",
      "Iteration  450, KL divergence 0.0305, 50 iterations in 0.6886 sec\n",
      "Iteration  500, KL divergence 0.0305, 50 iterations in 0.6746 sec\n",
      "Iteration  550, KL divergence 0.0305, 50 iterations in 0.6726 sec\n",
      "Iteration  600, KL divergence 0.0305, 50 iterations in 0.6726 sec\n",
      "Iteration  650, KL divergence 0.0305, 50 iterations in 0.6729 sec\n",
      "Iteration  700, KL divergence 0.0305, 50 iterations in 0.6757 sec\n",
      "Iteration  750, KL divergence 0.0305, 50 iterations in 0.6782 sec\n",
      "   --> Time elapsed: 10.12 seconds\n",
      "===> Finding 49 nearest neighbors using Annoy approximate search using euclidean distance...\n",
      "   --> Time elapsed: 0.01 seconds\n",
      "===> Calculating affinity matrix...\n",
      "   --> Time elapsed: 0.00 seconds\n",
      "===> Running optimization with exaggeration=12.00, lr=200.00 for 250 iterations...\n",
      "Iteration   50, KL divergence 1.0137, 50 iterations in 0.6759 sec\n",
      "Iteration  100, KL divergence 0.9501, 50 iterations in 0.6704 sec\n",
      "Iteration  150, KL divergence 1.0133, 50 iterations in 0.6733 sec\n",
      "Iteration  200, KL divergence 0.9574, 50 iterations in 0.6752 sec\n",
      "Iteration  250, KL divergence 0.9562, 50 iterations in 0.6830 sec\n",
      "   --> Time elapsed: 3.38 seconds\n",
      "===> Running optimization with exaggeration=1.00, lr=200.00 for 750 iterations...\n",
      "Iteration   50, KL divergence 0.0316, 50 iterations in 0.6726 sec\n",
      "Iteration  100, KL divergence 0.0285, 50 iterations in 0.6716 sec\n",
      "Iteration  150, KL divergence 0.0285, 50 iterations in 0.6707 sec\n",
      "Iteration  200, KL divergence 0.0285, 50 iterations in 0.6736 sec\n",
      "Iteration  250, KL divergence 0.0285, 50 iterations in 0.6715 sec\n",
      "Iteration  300, KL divergence 0.0285, 50 iterations in 0.6869 sec\n",
      "Iteration  350, KL divergence 0.0285, 50 iterations in 0.6755 sec\n",
      "Iteration  400, KL divergence 0.0285, 50 iterations in 0.6718 sec\n",
      "Iteration  450, KL divergence 0.0285, 50 iterations in 0.6727 sec\n",
      "Iteration  500, KL divergence 0.0285, 50 iterations in 0.6711 sec\n",
      "Iteration  550, KL divergence 0.0285, 50 iterations in 0.6712 sec\n",
      "Iteration  600, KL divergence 0.0285, 50 iterations in 0.6732 sec\n",
      "Iteration  650, KL divergence 0.0285, 50 iterations in 0.6717 sec\n",
      "Iteration  700, KL divergence 0.0285, 50 iterations in 0.6720 sec\n",
      "Iteration  750, KL divergence 0.0285, 50 iterations in 0.6816 sec\n",
      "   --> Time elapsed: 10.11 seconds\n",
      "===> Finding 49 nearest neighbors using Annoy approximate search using euclidean distance...\n",
      "   --> Time elapsed: 0.01 seconds\n",
      "===> Calculating affinity matrix...\n",
      "   --> Time elapsed: 0.00 seconds\n",
      "===> Running optimization with exaggeration=12.00, lr=200.00 for 250 iterations...\n",
      "Iteration   50, KL divergence 0.9268, 50 iterations in 0.6812 sec\n",
      "Iteration  100, KL divergence 0.9852, 50 iterations in 0.6769 sec\n",
      "Iteration  150, KL divergence 0.9497, 50 iterations in 0.6837 sec\n",
      "Iteration  200, KL divergence 1.0327, 50 iterations in 0.6822 sec\n",
      "Iteration  250, KL divergence 0.9036, 50 iterations in 0.6713 sec\n",
      "   --> Time elapsed: 3.40 seconds\n",
      "===> Running optimization with exaggeration=1.00, lr=200.00 for 750 iterations...\n",
      "Iteration   50, KL divergence 0.0378, 50 iterations in 0.6757 sec\n",
      "Iteration  100, KL divergence 0.0306, 50 iterations in 0.6766 sec\n",
      "Iteration  150, KL divergence 0.0306, 50 iterations in 0.6801 sec\n",
      "Iteration  200, KL divergence 0.0306, 50 iterations in 0.6769 sec\n",
      "Iteration  250, KL divergence 0.0306, 50 iterations in 0.6732 sec\n",
      "Iteration  300, KL divergence 0.0306, 50 iterations in 0.6744 sec\n",
      "Iteration  350, KL divergence 0.0306, 50 iterations in 0.6727 sec\n",
      "Iteration  400, KL divergence 0.0306, 50 iterations in 0.6724 sec\n",
      "Iteration  450, KL divergence 0.0306, 50 iterations in 0.6735 sec\n",
      "Iteration  500, KL divergence 0.0306, 50 iterations in 0.6745 sec\n",
      "Iteration  550, KL divergence 0.0306, 50 iterations in 0.6746 sec\n",
      "Iteration  600, KL divergence 0.0306, 50 iterations in 0.6732 sec\n",
      "Iteration  650, KL divergence 0.0306, 50 iterations in 0.6747 sec\n",
      "Iteration  700, KL divergence 0.0306, 50 iterations in 0.6725 sec\n",
      "Iteration  750, KL divergence 0.0306, 50 iterations in 0.6768 sec\n",
      "   --> Time elapsed: 10.12 seconds\n",
      "===> Finding 49 nearest neighbors using Annoy approximate search using euclidean distance...\n",
      "   --> Time elapsed: 0.01 seconds\n",
      "===> Calculating affinity matrix...\n",
      "   --> Time elapsed: 0.00 seconds\n",
      "===> Running optimization with exaggeration=12.00, lr=200.00 for 250 iterations...\n",
      "Iteration   50, KL divergence 1.0228, 50 iterations in 0.6753 sec\n",
      "Iteration  100, KL divergence 0.9987, 50 iterations in 0.6731 sec\n",
      "Iteration  150, KL divergence 0.9945, 50 iterations in 0.6719 sec\n",
      "Iteration  200, KL divergence 0.9508, 50 iterations in 0.6737 sec\n",
      "Iteration  250, KL divergence 0.9875, 50 iterations in 0.6760 sec\n",
      "   --> Time elapsed: 3.37 seconds\n",
      "===> Running optimization with exaggeration=1.00, lr=200.00 for 750 iterations...\n",
      "Iteration   50, KL divergence 0.0485, 50 iterations in 0.6739 sec\n",
      "Iteration  100, KL divergence 0.0463, 50 iterations in 0.6726 sec\n",
      "Iteration  150, KL divergence 0.0311, 50 iterations in 0.6738 sec\n",
      "Iteration  200, KL divergence 0.0311, 50 iterations in 0.6724 sec\n",
      "Iteration  250, KL divergence 0.0311, 50 iterations in 0.6733 sec\n",
      "Iteration  300, KL divergence 0.0311, 50 iterations in 0.6748 sec\n",
      "Iteration  350, KL divergence 0.0311, 50 iterations in 0.6726 sec\n",
      "Iteration  400, KL divergence 0.0311, 50 iterations in 0.6731 sec\n",
      "Iteration  450, KL divergence 0.0311, 50 iterations in 0.6794 sec\n",
      "Iteration  500, KL divergence 0.0311, 50 iterations in 0.6732 sec\n",
      "Iteration  550, KL divergence 0.0311, 50 iterations in 0.6719 sec\n",
      "Iteration  600, KL divergence 0.0311, 50 iterations in 0.6735 sec\n",
      "Iteration  650, KL divergence 0.0311, 50 iterations in 0.6726 sec\n",
      "Iteration  700, KL divergence 0.0311, 50 iterations in 0.6738 sec\n",
      "Iteration  750, KL divergence 0.0311, 50 iterations in 0.6737 sec\n",
      "   --> Time elapsed: 10.11 seconds\n",
      "===> Finding 49 nearest neighbors using Annoy approximate search using euclidean distance...\n",
      "   --> Time elapsed: 0.01 seconds\n",
      "===> Calculating affinity matrix...\n",
      "   --> Time elapsed: 0.00 seconds\n",
      "===> Running optimization with exaggeration=12.00, lr=200.00 for 250 iterations...\n",
      "Iteration   50, KL divergence 1.0114, 50 iterations in 0.6723 sec\n",
      "Iteration  100, KL divergence 0.9963, 50 iterations in 0.6735 sec\n",
      "Iteration  150, KL divergence 1.0362, 50 iterations in 0.6727 sec\n",
      "Iteration  200, KL divergence 0.9980, 50 iterations in 0.6732 sec\n",
      "Iteration  250, KL divergence 0.9705, 50 iterations in 0.6736 sec\n",
      "   --> Time elapsed: 3.37 seconds\n",
      "===> Running optimization with exaggeration=1.00, lr=200.00 for 750 iterations...\n",
      "Iteration   50, KL divergence 0.0493, 50 iterations in 0.6729 sec\n",
      "Iteration  100, KL divergence 0.0432, 50 iterations in 0.6722 sec\n",
      "Iteration  150, KL divergence 0.0432, 50 iterations in 0.6740 sec\n",
      "Iteration  200, KL divergence 0.0432, 50 iterations in 0.6728 sec\n",
      "Iteration  250, KL divergence 0.0432, 50 iterations in 0.6699 sec\n",
      "Iteration  300, KL divergence 0.0432, 50 iterations in 0.6712 sec\n",
      "Iteration  350, KL divergence 0.0432, 50 iterations in 0.6720 sec\n",
      "Iteration  400, KL divergence 0.0432, 50 iterations in 0.6698 sec\n",
      "Iteration  450, KL divergence 0.0432, 50 iterations in 0.6724 sec\n",
      "Iteration  500, KL divergence 0.0432, 50 iterations in 0.6713 sec\n",
      "Iteration  550, KL divergence 0.0432, 50 iterations in 0.6715 sec\n",
      "Iteration  600, KL divergence 0.0432, 50 iterations in 0.6732 sec\n",
      "Iteration  650, KL divergence 0.0432, 50 iterations in 0.6726 sec\n",
      "Iteration  700, KL divergence 0.0432, 50 iterations in 0.6724 sec\n",
      "Iteration  750, KL divergence 0.0432, 50 iterations in 0.6739 sec\n",
      "   --> Time elapsed: 10.08 seconds\n",
      "===> Finding 49 nearest neighbors using Annoy approximate search using euclidean distance...\n",
      "   --> Time elapsed: 0.01 seconds\n",
      "===> Calculating affinity matrix...\n",
      "   --> Time elapsed: 0.00 seconds\n",
      "===> Running optimization with exaggeration=12.00, lr=200.00 for 250 iterations...\n",
      "Iteration   50, KL divergence 0.8500, 50 iterations in 0.6740 sec\n",
      "Iteration  100, KL divergence 0.9654, 50 iterations in 0.6723 sec\n",
      "Iteration  150, KL divergence 1.0015, 50 iterations in 0.6729 sec\n",
      "Iteration  200, KL divergence 0.9442, 50 iterations in 0.6727 sec\n",
      "Iteration  250, KL divergence 0.9121, 50 iterations in 0.6729 sec\n",
      "   --> Time elapsed: 3.37 seconds\n",
      "===> Running optimization with exaggeration=1.00, lr=200.00 for 750 iterations...\n",
      "Iteration   50, KL divergence 0.0781, 50 iterations in 0.6713 sec\n",
      "Iteration  100, KL divergence 0.0356, 50 iterations in 0.6719 sec\n",
      "Iteration  150, KL divergence 0.0356, 50 iterations in 0.6731 sec\n",
      "Iteration  200, KL divergence 0.0356, 50 iterations in 0.6732 sec\n",
      "Iteration  250, KL divergence 0.0356, 50 iterations in 0.6710 sec\n",
      "Iteration  300, KL divergence 0.0356, 50 iterations in 0.6711 sec\n",
      "Iteration  350, KL divergence 0.0356, 50 iterations in 0.6705 sec\n",
      "Iteration  400, KL divergence 0.0356, 50 iterations in 0.6725 sec\n",
      "Iteration  450, KL divergence 0.0356, 50 iterations in 0.6734 sec\n",
      "Iteration  500, KL divergence 0.0356, 50 iterations in 0.6767 sec\n",
      "Iteration  550, KL divergence 0.0356, 50 iterations in 0.6706 sec\n",
      "Iteration  600, KL divergence 0.0356, 50 iterations in 0.6726 sec\n",
      "Iteration  650, KL divergence 0.0356, 50 iterations in 0.6719 sec\n",
      "Iteration  700, KL divergence 0.0356, 50 iterations in 0.6722 sec\n",
      "Iteration  750, KL divergence 0.0356, 50 iterations in 0.6847 sec\n",
      "   --> Time elapsed: 10.10 seconds\n",
      "===> Finding 49 nearest neighbors using Annoy approximate search using euclidean distance...\n",
      "   --> Time elapsed: 0.01 seconds\n",
      "===> Calculating affinity matrix...\n",
      "   --> Time elapsed: 0.00 seconds\n",
      "===> Running optimization with exaggeration=12.00, lr=200.00 for 250 iterations...\n",
      "Iteration   50, KL divergence 0.9821, 50 iterations in 0.6743 sec\n",
      "Iteration  100, KL divergence 0.9456, 50 iterations in 0.6724 sec\n",
      "Iteration  150, KL divergence 1.0858, 50 iterations in 0.6723 sec\n",
      "Iteration  200, KL divergence 0.9729, 50 iterations in 0.6724 sec\n",
      "Iteration  250, KL divergence 0.9798, 50 iterations in 0.6738 sec\n",
      "   --> Time elapsed: 3.37 seconds\n",
      "===> Running optimization with exaggeration=1.00, lr=200.00 for 750 iterations...\n",
      "Iteration   50, KL divergence 0.0567, 50 iterations in 0.6725 sec\n",
      "Iteration  100, KL divergence 0.0390, 50 iterations in 0.6724 sec\n",
      "Iteration  150, KL divergence 0.0390, 50 iterations in 0.6724 sec\n",
      "Iteration  200, KL divergence 0.0390, 50 iterations in 0.6738 sec\n",
      "Iteration  250, KL divergence 0.0390, 50 iterations in 0.6723 sec\n",
      "Iteration  300, KL divergence 0.0390, 50 iterations in 0.6792 sec\n",
      "Iteration  350, KL divergence 0.0390, 50 iterations in 0.6833 sec\n",
      "Iteration  400, KL divergence 0.0390, 50 iterations in 0.6715 sec\n",
      "Iteration  450, KL divergence 0.0390, 50 iterations in 0.6734 sec\n",
      "Iteration  500, KL divergence 0.0390, 50 iterations in 0.6731 sec\n",
      "Iteration  550, KL divergence 0.0390, 50 iterations in 0.6730 sec\n",
      "Iteration  600, KL divergence 0.0390, 50 iterations in 0.6740 sec\n",
      "Iteration  650, KL divergence 0.0390, 50 iterations in 0.6758 sec\n",
      "Iteration  700, KL divergence 0.0390, 50 iterations in 0.6815 sec\n",
      "Iteration  750, KL divergence 0.0390, 50 iterations in 0.6765 sec\n",
      "   --> Time elapsed: 10.13 seconds\n",
      "===> Finding 49 nearest neighbors using Annoy approximate search using euclidean distance...\n",
      "   --> Time elapsed: 0.01 seconds\n",
      "===> Calculating affinity matrix...\n",
      "   --> Time elapsed: 0.00 seconds\n",
      "===> Running optimization with exaggeration=12.00, lr=200.00 for 250 iterations...\n",
      "Iteration   50, KL divergence 0.9204, 50 iterations in 0.6797 sec\n",
      "Iteration  100, KL divergence 0.9925, 50 iterations in 0.6774 sec\n",
      "Iteration  150, KL divergence 1.0264, 50 iterations in 0.6772 sec\n",
      "Iteration  200, KL divergence 1.0242, 50 iterations in 0.6833 sec\n",
      "Iteration  250, KL divergence 0.9423, 50 iterations in 0.6729 sec\n",
      "   --> Time elapsed: 3.39 seconds\n",
      "===> Running optimization with exaggeration=1.00, lr=200.00 for 750 iterations...\n",
      "Iteration   50, KL divergence 0.0673, 50 iterations in 0.6714 sec\n",
      "Iteration  100, KL divergence 0.0268, 50 iterations in 0.6706 sec\n",
      "Iteration  150, KL divergence 0.0268, 50 iterations in 0.6744 sec\n",
      "Iteration  200, KL divergence 0.0268, 50 iterations in 0.6799 sec\n",
      "Iteration  250, KL divergence 0.0268, 50 iterations in 0.6762 sec\n",
      "Iteration  300, KL divergence 0.0268, 50 iterations in 0.6807 sec\n",
      "Iteration  350, KL divergence 0.0268, 50 iterations in 0.6757 sec\n",
      "Iteration  400, KL divergence 0.0268, 50 iterations in 0.6854 sec\n",
      "Iteration  450, KL divergence 0.0268, 50 iterations in 0.6954 sec\n",
      "Iteration  500, KL divergence 0.0268, 50 iterations in 0.6736 sec\n",
      "Iteration  550, KL divergence 0.0268, 50 iterations in 0.6727 sec\n",
      "Iteration  600, KL divergence 0.0268, 50 iterations in 0.6720 sec\n",
      "Iteration  650, KL divergence 0.0268, 50 iterations in 0.6713 sec\n",
      "Iteration  700, KL divergence 0.0268, 50 iterations in 0.6716 sec\n",
      "Iteration  750, KL divergence 0.0268, 50 iterations in 0.6734 sec\n",
      "   --> Time elapsed: 10.15 seconds\n",
      "===> Finding 49 nearest neighbors using Annoy approximate search using euclidean distance...\n",
      "   --> Time elapsed: 0.01 seconds\n",
      "===> Calculating affinity matrix...\n",
      "   --> Time elapsed: 0.00 seconds\n",
      "===> Running optimization with exaggeration=12.00, lr=200.00 for 250 iterations...\n",
      "Iteration   50, KL divergence 0.9281, 50 iterations in 0.6740 sec\n",
      "Iteration  100, KL divergence 0.9380, 50 iterations in 0.6811 sec\n",
      "Iteration  150, KL divergence 1.0385, 50 iterations in 0.6723 sec\n",
      "Iteration  200, KL divergence 0.9299, 50 iterations in 0.6746 sec\n",
      "Iteration  250, KL divergence 0.9880, 50 iterations in 0.6728 sec\n",
      "   --> Time elapsed: 3.38 seconds\n",
      "===> Running optimization with exaggeration=1.00, lr=200.00 for 750 iterations...\n",
      "Iteration   50, KL divergence 0.0446, 50 iterations in 0.6722 sec\n",
      "Iteration  100, KL divergence 0.0425, 50 iterations in 0.6726 sec\n",
      "Iteration  150, KL divergence 0.0425, 50 iterations in 0.6706 sec\n",
      "Iteration  200, KL divergence 0.0425, 50 iterations in 0.6708 sec\n",
      "Iteration  250, KL divergence 0.0425, 50 iterations in 0.6722 sec\n",
      "Iteration  300, KL divergence 0.0425, 50 iterations in 0.6716 sec\n",
      "Iteration  350, KL divergence 0.0425, 50 iterations in 0.6726 sec\n",
      "Iteration  400, KL divergence 0.0425, 50 iterations in 0.6711 sec\n",
      "Iteration  450, KL divergence 0.0425, 50 iterations in 0.6758 sec\n",
      "Iteration  500, KL divergence 0.0425, 50 iterations in 0.6795 sec\n",
      "Iteration  550, KL divergence 0.0425, 50 iterations in 0.6721 sec\n",
      "Iteration  600, KL divergence 0.0425, 50 iterations in 0.6699 sec\n",
      "Iteration  650, KL divergence 0.0425, 50 iterations in 0.6719 sec\n",
      "Iteration  700, KL divergence 0.0425, 50 iterations in 0.6709 sec\n",
      "Iteration  750, KL divergence 0.0425, 50 iterations in 0.6708 sec\n",
      "   --> Time elapsed: 10.09 seconds\n"
     ]
    }
   ],
   "source": [
    "Ys_MC = []\n",
    "y_guess = random.normal(key, shape=(n, 2))\n",
    "\n",
    "for i in s:\n",
    "    Ys_MC.append(tsne_fwd(onp.array(i), y_guess))"
   ]
  },
  {
   "cell_type": "code",
   "execution_count": 43,
   "id": "79e7bb41-7fc4-4ffa-a35e-737d23b214e6",
   "metadata": {},
   "outputs": [
    {
     "name": "stdout",
     "output_type": "stream",
     "text": [
      "(15, 50, 2)\n"
     ]
    }
   ],
   "source": [
    "print(onp.array(Ys_MC).shape)"
   ]
  },
  {
   "cell_type": "code",
   "execution_count": 48,
   "id": "169591e7-e6f8-4373-aec8-902e7ac03b68",
   "metadata": {},
   "outputs": [
    {
     "name": "stderr",
     "output_type": "stream",
     "text": [
      "/tmp/ipykernel_3091587/869587752.py:2: UserWarning: No data for colormapping provided via 'c'. Parameters 'cmap' will be ignored\n",
      "  plt.scatter(Ys_MC[0][:, 0], Ys_MC[0][:, 1], c=y, cmap='tab10')\n",
      "/tmp/ipykernel_3091587/869587752.py:3: UserWarning: No data for colormapping provided via 'c'. Parameters 'cmap' will be ignored\n",
      "  plt.scatter(Ys_MC[10][:, 0], Ys_MC[10][:, 1], c=y, cmap='tab10')\n"
     ]
    },
    {
     "data": {
      "text/plain": [
       "<matplotlib.collections.PathCollection at 0x7f2fc0334f40>"
      ]
     },
     "execution_count": 48,
     "metadata": {},
     "output_type": "execute_result"
    },
    {
     "data": {
      "image/png": "[encoded data removed]",
      "text/plain": [
       "<Figure size 960x720 with 1 Axes>"
      ]
     },
     "metadata": {},
     "output_type": "display_data"
    }
   ],
   "source": [
    "f = plt.figure()\n",
    "plt.scatter(Ys_MC[0][:, 0], Ys_MC[0][:, 1], c=y, cmap='tab10')\n",
    "plt.scatter(Ys_MC[10][:, 0], Ys_MC[10][:, 1], c=y, cmap='tab10')\n",
    "#for i in Ys_MC:\n",
    "#    plt.scatter(i[:, 0], i[:, 1], c=y, cmap='tab10')"
   ]
  },
  {
   "cell_type": "code",
   "execution_count": 17,
   "id": "575776c3-aa0c-4c9f-9a9b-b60b66c34dee",
   "metadata": {},
   "outputs": [
    {
     "name": "stdout",
     "output_type": "stream",
     "text": [
      "===> Finding 49 nearest neighbors using Annoy approximate search using euclidean distance...\n",
      "   --> Time elapsed: 0.02 seconds\n",
      "===> Calculating affinity matrix...\n",
      "   --> Time elapsed: 0.00 seconds\n",
      "===> Running optimization with exaggeration=12.00, lr=200.00 for 250 iterations...\n",
      "Iteration   50, KL divergence 0.9328, 50 iterations in 0.7172 sec\n",
      "Iteration  100, KL divergence 0.9396, 50 iterations in 0.6777 sec\n",
      "Iteration  150, KL divergence 0.9470, 50 iterations in 0.6695 sec\n",
      "Iteration  200, KL divergence 0.9866, 50 iterations in 0.6668 sec\n",
      "Iteration  250, KL divergence 1.0166, 50 iterations in 0.6669 sec\n",
      "   --> Time elapsed: 3.40 seconds\n",
      "===> Running optimization with exaggeration=1.00, lr=200.00 for 750 iterations...\n",
      "Iteration   50, KL divergence 0.0342, 50 iterations in 0.6679 sec\n",
      "Iteration  100, KL divergence 0.0322, 50 iterations in 0.6680 sec\n",
      "Iteration  150, KL divergence 0.0322, 50 iterations in 0.6691 sec\n",
      "Iteration  200, KL divergence 0.0322, 50 iterations in 0.6672 sec\n",
      "Iteration  250, KL divergence 0.0322, 50 iterations in 0.6651 sec\n",
      "Iteration  300, KL divergence 0.0322, 50 iterations in 0.6646 sec\n",
      "Iteration  350, KL divergence 0.0322, 50 iterations in 0.6661 sec\n",
      "Iteration  400, KL divergence 0.0322, 50 iterations in 0.6644 sec\n",
      "Iteration  450, KL divergence 0.0322, 50 iterations in 0.6655 sec\n",
      "Iteration  500, KL divergence 0.0322, 50 iterations in 0.6670 sec\n",
      "Iteration  550, KL divergence 0.0322, 50 iterations in 0.6655 sec\n",
      "Iteration  600, KL divergence 0.0322, 50 iterations in 0.6656 sec\n",
      "Iteration  650, KL divergence 0.0322, 50 iterations in 0.6700 sec\n",
      "Iteration  700, KL divergence 0.0322, 50 iterations in 0.6654 sec\n",
      "Iteration  750, KL divergence 0.0322, 50 iterations in 0.6649 sec\n",
      "   --> Time elapsed: 10.00 seconds\n"
     ]
    }
   ],
   "source": [
    "Y_star = tsne_fwd(onp.array(X_unflattener(X_flat)), y_guess)\n",
    "Y_flat, Y_unflattener = flatten_util.ravel_pytree(Y_star) "
   ]
  },
  {
   "cell_type": "code",
   "execution_count": 40,
   "id": "4719b368-af19-4ee4-95a9-3416e5d99011",
   "metadata": {},
   "outputs": [
    {
     "data": {
      "text/plain": [
       "(50, 2)"
      ]
     },
     "execution_count": 40,
     "metadata": {},
     "output_type": "execute_result"
    }
   ],
   "source": [
    "Y_star.shape"
   ]
  },
  {
   "cell_type": "code",
   "execution_count": 18,
   "id": "ecb6b4c9-6a7e-4fca-80d4-b7472d09ab0a",
   "metadata": {},
   "outputs": [],
   "source": [
    "def neumannApproximation(f_vjp, v, iterations):\n",
    "    '''Neumann approximation of inverse-Hessian-vector product'''\n",
    "    p = v\n",
    "    for i in range(iterations):\n",
    "        v -= f_vjp(v)[0]\n",
    "        p += v\n",
    "    return p"
   ]
  },
  {
   "cell_type": "code",
   "execution_count": 19,
   "id": "272d0f81-1bfb-4c7f-9a43-7401d0bd55fb",
   "metadata": {},
   "outputs": [],
   "source": [
    "neumann_fun = lambda v: neumannApproximation(f_vjp, v, Y_flat, 200)"
   ]
  },
  {
   "cell_type": "code",
   "execution_count": 22,
   "id": "f30074f5-19ed-44ae-b426-e67a3c05c316",
   "metadata": {},
   "outputs": [
    {
     "name": "stdout",
     "output_type": "stream",
     "text": [
      "Computing pairwise distances...\n",
      "Starting binary search\n",
      "Entered binary search function\n",
      "Computing pairwise distances...\n",
      "Starting binary search\n",
      "Entered binary search function\n"
     ]
    }
   ],
   "source": [
    "funY = lambda y: regularized_KL_divergence(X_flat, y, X_unflattener, Y_unflattener)\n",
    "funX = lambda x: regularized_KL_divergence(x, Y_flat, X_unflattener, Y_unflattener)\n",
    "funXY = partial(regularized_KL_divergence, X_unflattener=X_unflattener, Y_unflattener=Y_unflattener)\n",
    "_, hessian_vjp = vjp(grad(funY), Y_flat)\n",
    "neumann_fun = lambda v: neumannApproximation(hessian_vjp, v, 200)\n",
    "Jx_fun = lambda x: jax.grad(funXY, argnums=1)(x, Y_flat)\n",
    "_, Jacobian_vjp = vjp(Jx_fun, X_flat)"
   ]
  },
  {
   "cell_type": "code",
   "execution_count": 23,
   "id": "d9023f90-c0d1-478a-8fd4-0e9350d56ff4",
   "metadata": {},
   "outputs": [
    {
     "name": "stdout",
     "output_type": "stream",
     "text": [
      "Computing pairwise distances...\n",
      "Starting binary search\n",
      "Entered binary search function\n"
     ]
    }
   ],
   "source": [
    "v_in = np.eye(len(X_flat))\n",
    "Jx_fun2 = lambda y: jax.grad(funXY, argnums=0)(X_flat, y)\n",
    "_, Jacobian_jvp = vjp(Jx_fun2, Y_flat)"
   ]
  },
  {
   "cell_type": "code",
   "execution_count": 24,
   "id": "03ccfde4-2528-4682-bb27-3ce49c4254b1",
   "metadata": {},
   "outputs": [
    {
     "name": "stdout",
     "output_type": "stream",
     "text": [
      "Computing pairwise distances...\n",
      "Starting binary search\n",
      "Entered binary search function\n"
     ]
    },
    {
     "data": {
      "text/plain": [
       "(500,)"
      ]
     },
     "execution_count": 24,
     "metadata": {},
     "output_type": "execute_result"
    }
   ],
   "source": [
    "Jx_fun2(Y_flat).shape"
   ]
  },
  {
   "cell_type": "code",
   "execution_count": 25,
   "id": "4779a2a9-eeed-4515-94bc-27632f86f019",
   "metadata": {},
   "outputs": [],
   "source": [
    "def compute_cov(neumann_fun, Jacobian_vjp, Jacobian_jvp, A, B, i, N, D):\n",
    "    v1 = np.ravel(jax.nn.one_hot(np.array([i]), 2*N))\n",
    "    print(v1.shape)\n",
    "    v2 = neumann_fun(v1)\n",
    "    print(v2.shape)\n",
    "    v3 = Jacobian_vjp(v2)[0]\n",
    "    print(v3.shape)\n",
    "    v4 = np.ravel(np.dot(np.dot(A, np.reshape(v3, (N, D), 'C')), np.transpose(B)), 'C')\n",
    "    print(v4.shape)\n",
    "    v5 = Jacobian_jvp(v4)[0]\n",
    "    print(v5)\n",
    "    v6 = neumann_fun(v5)\n",
    "    return v6"
   ]
  },
  {
   "cell_type": "code",
   "execution_count": 27,
   "id": "a1c9ce3b-12d2-40fe-b230-709d02abf581",
   "metadata": {},
   "outputs": [],
   "source": [
    "N, D = X_unflattener(X_flat).shape\n"
   ]
  },
  {
   "cell_type": "code",
   "execution_count": 28,
   "id": "181d1fd0-bbcb-464c-b7a8-6c67a866118d",
   "metadata": {},
   "outputs": [
    {
     "name": "stdout",
     "output_type": "stream",
     "text": [
      "(100,)\n",
      "(100,)\n",
      "(500,)\n",
      "(500,)\n",
      "Traced<ShapedArray(float32[100])>with<BatchTrace(level=1/0)> with\n",
      "  val = Array([[ 5.8809397e-05, -4.3654336e-06,  1.2219617e-05, ...,\n",
      "        -4.8741940e-06,  6.0994353e-07,  1.5663436e-06],\n",
      "       [-1.6666105e-05,  6.7691672e-06, -1.4204547e-06, ...,\n",
      "         1.9222521e-06,  1.3994905e-07, -7.9885706e-07],\n",
      "       [ 1.6769845e-05, -2.6217890e-08,  2.5643587e-05, ...,\n",
      "        -2.1101127e-06, -1.9546223e-07,  7.1272416e-07],\n",
      "       ...,\n",
      "       [-2.7281869e-06,  1.2793024e-07, -9.4651716e-07, ...,\n",
      "         5.8368951e-06, -9.1283800e-07,  3.9130930e-07],\n",
      "       [ 3.9620386e-06, -2.2534005e-07,  9.4983682e-07, ...,\n",
      "        -2.0200785e-06,  4.2466381e-06, -7.6044785e-08],\n",
      "       [ 3.9474339e-06, -3.0696506e-07,  1.1462982e-06, ...,\n",
      "         6.6733037e-08, -5.4107858e-08,  3.4915909e-06]], dtype=float32)\n",
      "  batch_dim = 0\n"
     ]
    }
   ],
   "source": [
    "compute_cov_fun = lambda i: compute_cov(neumann_fun, Jacobian_vjp, Jacobian_jvp, A, B, i, N, D)\n",
    "cov = vmap(compute_cov_fun)(np.array([i for i in range(2*N)]))"
   ]
  },
  {
   "cell_type": "code",
   "execution_count": 38,
   "id": "9e53a2e9-3576-4aed-b8dd-29d3040586a1",
   "metadata": {},
   "outputs": [],
   "source": [
    "from utils import equipotential_standard_normal, animate_ifd\n",
    "S = equipotential_standard_normal(2 * Y_star.shape[0], 20)\n",
    "L, lower = jax.scipy.linalg.cho_factor(cov+1e-5*np.eye(len(cov)), lower=True)\n",
    "samples = np.transpose(np.transpose(np.dot(L, S))+Y_flat)\n",
    "np.save('samples.npy', samples)\n",
    "np.save('labels.npy', [i for i in range(50)])"
   ]
  },
  {
   "cell_type": "code",
   "execution_count": 41,
   "id": "2a149bfd-3636-43ba-b5b4-14835233a1a6",
   "metadata": {},
   "outputs": [
    {
     "name": "stdout",
     "output_type": "stream",
     "text": [
      "(100, 19)\n"
     ]
    }
   ],
   "source": [
    "print(samples.shape)"
   ]
  },
  {
   "cell_type": "code",
   "execution_count": 35,
   "id": "cb20dd4c-ec77-48b5-8887-024552333e41",
   "metadata": {},
   "outputs": [
    {
     "name": "stdout",
     "output_type": "stream",
     "text": [
      "None\n"
     ]
    }
   ],
   "source": [
    "print(y)"
   ]
  },
  {
   "cell_type": "code",
   "execution_count": 39,
   "id": "3d8374c5-f246-4250-a4f9-2aeb2d59ed39",
   "metadata": {},
   "outputs": [
    {
     "name": "stdout",
     "output_type": "stream",
     "text": [
      "[ 0  1  2  3  4  5  6  7  8  9 10 11 12 13 14 15 16 17 18 19 20 21 22 23\n",
      " 24 25 26 27 28 29 30 31 32 33 34 35 36 37 38 39 40 41 42 43 44 45 46 47\n",
      " 48 49]\n"
     ]
    },
    {
     "data": {
      "image/png": "[encoded data removed]",
      "text/plain": [
       "<Figure size 750x450 with 1 Axes>"
      ]
     },
     "metadata": {},
     "output_type": "display_data"
    }
   ],
   "source": [
    "from utils import equipotential_standard_normal, animate_ifd\n",
    "animate_ifd('samples.npy', 'labels.npy', 'animation.gif')"
   ]
  },
  {
   "cell_type": "code",
   "execution_count": null,
   "id": "e6c25aad-f82a-4ba7-b205-11f35f01d5b7",
   "metadata": {},
   "outputs": [],
   "source": []
  }
 ],
 "metadata": {
  "kernelspec": {
   "display_name": "Python 3 (ipykernel)",
   "language": "python",
   "name": "python3"
  },
  "language_info": {
   "codemirror_mode": {
    "name": "ipython",
    "version": 3
   },
   "file_extension": ".py",
   "mimetype": "text/x-python",
   "name": "python",
   "nbconvert_exporter": "python",
   "pygments_lexer": "ipython3",
   "version": "3.8.12"
  }
 },
 "nbformat": 4,
 "nbformat_minor": 5
}
