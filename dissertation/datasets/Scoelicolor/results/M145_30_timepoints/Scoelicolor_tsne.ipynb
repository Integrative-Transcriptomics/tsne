{
 "cells": [
  {
   "cell_type": "code",
   "execution_count": 1,
   "metadata": {},
   "outputs": [],
   "source": [
    "#from utils import load_data, MidpointNormalize, equipotential_standard_normal, plot_heatmaps\n",
    "import sys\n",
    "wd = '/ceph/ibmi/it/users/zabel/tsne/diss'\n",
    "sys.path.insert(0, wd)\n",
    "\n",
    "import pandas as pd\n",
    "#import seaborn as sns\n",
    "\n",
    "from tsne_jax import *\n",
    "\n",
    "from utils import *\n",
    "import matplotlib.pyplot as plt\n",
    "#import tikzplotlib\n",
    "\n",
    "from tueplots.constants.color import palettes\n",
    "\n",
    "import scipy\n",
    "\n",
    "plt.rcParams.update(cycler.cycler(color=palettes.tue_plot))\n",
    "#plt.rcParams.update(fonts.aistats2022_tex(family=\"serif\"))\n",
    "#plt.rcParams.update(fontsizes.aistats2022())\n",
    "#plt.rcParams['axes.grid'] = False\n"
   ]
  },
  {
   "cell_type": "code",
   "execution_count": null,
   "metadata": {},
   "outputs": [],
   "source": [
    "def plot_matrix(M):\n",
    "  for i, row in enumerate(M):\n",
    "    s = ''\n",
    "    for j, col in enumerate(row):\n",
    "      s = s +'('+str(j)+','+str(i)+') ['+str(M[i, j])+'] '\n",
    "    print(s)\n",
    "    print('\\n')"
   ]
  },
  {
   "cell_type": "markdown",
   "metadata": {},
   "source": [
    "### Load matrices generated in R"
   ]
  },
  {
   "cell_type": "code",
   "execution_count": null,
   "metadata": {},
   "outputs": [],
   "source": [
    "X = pd.read_csv('/ceph/ibmi/it/users/zabel/tsne/diss/datasets/Scoelicolor/results/M145_30_timepoints/f199_full_genes.tsv', header=0, sep='\\t', index_col=0)\n",
    "print(X.shape)\n",
    "labels_str = X.columns\n",
    "X = X.transpose()\n",
    "\n",
    "# Set the top x% threshold (e.g., top 50%)\n",
    "top_percent = 5\n",
    "\n",
    "# Calculate variance for each column\n",
    "variances = X.var()\n",
    "\n",
    "# Determine the cutoff variance value\n",
    "cutoff = variances.quantile(1 - top_percent / 100)\n",
    "\n",
    "# Filter columns with variance in the top x%\n",
    "X = X.loc[:, variances >= cutoff]\n",
    "print(X.shape)\n",
    "\n",
    "\n",
    "#plt.plot(mean.iloc[0:3].var(axis=0))"
   ]
  },
  {
   "cell_type": "code",
   "execution_count": null,
   "metadata": {},
   "outputs": [],
   "source": [
    "labels_int = [int(i) for i, j in enumerate(labels_str)]\n",
    "labels_unique = ['t'+i for i in labels_str]\n",
    "labels = labels_unique\n",
    "print(labels_int)"
   ]
  },
  {
   "cell_type": "code",
   "execution_count": null,
   "metadata": {},
   "outputs": [],
   "source": [
    "from openTSNE import TSNE\n",
    "#X = scipy.stats.matrix_normal.rvs(mean, cov1, cov2)\n",
    "X_array = X.values\n",
    "\n",
    "#X, y = load_data(10)\n",
    "key = random.PRNGKey(42)\n",
    "\n",
    "y_guess = random.normal(key, shape=(X_array.shape[0], 2))\n",
    "#\n",
    "Y_star = tsne_fwd(X_array, y_guess)\n",
    "#tsne = TSNE(verbose=True)\n",
    "#Y_star = tsne.fit(X_array,)\n",
    "\n",
    "X_flat, X_unflattener = flatten_util.ravel_pytree(np.array(X_array))   # row-wise\n",
    "Y_flat, Y_unflattener = flatten_util.ravel_pytree(Y_star)\n",
    "\n",
    "np.save('/ceph/ibmi/it/users/zabel/tsne/diss/datasets/Scoelicolor/results/M145_30_timepoints/tsne_embedding.npy', Y_star)\n"
   ]
  },
  {
   "cell_type": "code",
   "execution_count": null,
   "metadata": {},
   "outputs": [],
   "source": [
    "KL_divergence_dy(X_flat, Y_flat, X_unflattener, Y_unflattener, perplexity=30.0)"
   ]
  },
  {
   "cell_type": "code",
   "execution_count": null,
   "metadata": {},
   "outputs": [],
   "source": [
    "from matplotlib import colors\n",
    "\n",
    "#cmap = plt.get_cmap('tab10')\n",
    "#norm = colors.Normalize(vmin=0, vmax=len(labels_unique)-1)\n",
    "#color_mapping = {label: cmap(norm(i)) for i, label in enumerate(labels_unique)}\n",
    "\n",
    "#cmap = palettes.tue_plot\n",
    "#color_mapping = {label: cmap[i] for i, label in enumerate(labels_unique)}\n",
    "\n",
    "\n",
    "f = plt.figure()\n",
    "#for ind, i in enumerate(labels_unique):\n",
    "#  print(i)\n",
    "#  print(labels_int[ind])\n",
    "#  inds = [j == i for j in labels]\n",
    "#  print(inds)\n",
    "#  scatter = plt.scatter(Y_star[inds, 0], Y_star[inds, 1], c = labels_int[ind], cmap='rainbow', label=i)\n",
    "scatter = plt.scatter(Y_star[:, 0], Y_star[:, 1], c = labels_int, cmap='rainbow')\n",
    "plt.plot(Y_star[:, 0], Y_star[:, 1], c='lightblue')\n",
    "plt.xlabel('TSNE 1')\n",
    "plt.ylabel('TSNE 2')\n",
    "for i, txt in enumerate(labels):\n",
    "  #if i==0:\n",
    "  plt.annotate(txt, (Y_star[i, 0], Y_star[i, 1]))\n",
    "  #if i==31:\n",
    "  #  plt.annotate(txt, (Y_star[i, 0], Y_star[i, 1]))\n",
    "#plt.legend(handles=scatter.legend_elements(num=8)[0], labels=labels)\n",
    "plt.legend()\n",
    "\n"
   ]
  },
  {
   "cell_type": "code",
   "execution_count": null,
   "metadata": {},
   "outputs": [],
   "source": [
    "KL_divergence_dy(X_flat, Y_flat, X_unflattener, Y_unflattener, perplexity=30)"
   ]
  },
  {
   "cell_type": "code",
   "execution_count": null,
   "metadata": {},
   "outputs": [],
   "source": [
    "sensitivities = compute_sensitivities(X_flat, Y_flat, X_unflattener, Y_unflattener, 2.33)\n",
    "np.save('/ceph/ibmi/it/users/zabel/tsne/diss/datasets/Scoelicolor/results/M145_30_timepoints/sensitivities.npy', sensitivities)"
   ]
  },
  {
   "cell_type": "code",
   "execution_count": null,
   "metadata": {},
   "outputs": [],
   "source": [
    "sensitivities.shape"
   ]
  },
  {
   "cell_type": "code",
   "execution_count": null,
   "metadata": {},
   "outputs": [],
   "source": [
    "#import tikzplotlib\n",
    "px = 1/plt.rcParams['figure.dpi']\n",
    "cm = 1/2.54\n",
    "plot_heatmap(sensitivities, figsize=(14*cm, 7*cm), with_cell_lines=False)\n",
    "\n",
    "#tikzplotlib.save(\"sensitivities.pgf\")"
   ]
  },
  {
   "cell_type": "code",
   "execution_count": null,
   "metadata": {},
   "outputs": [],
   "source": [
    "dy_dx_per_input = np.sum(np.abs(sensitivities), axis=0)\n",
    "#f = plt.figure()\n",
    "#plt.plot(np.sum(np.abs(dy_dx), axis=0))\n",
    "dy_dx_per_input_reshaped = X_unflattener(dy_dx_per_input) + 1e-8\n",
    "plot_heatmap(dy_dx_per_input_reshaped, with_cell_lines=False)\n",
    "np.save('/ceph/ibmi/it/users/zabel/tsne/diss/datasets/Scoelicolor/results/M145_30_timepoints/sensitivities_summarized.npy', dy_dx_per_input_reshaped)"
   ]
  },
  {
   "cell_type": "code",
   "execution_count": null,
   "metadata": {},
   "outputs": [],
   "source": [
    "f = plt.figure(figsize=(10, 5))\n",
    "plt.plot(np.sum(dy_dx_per_input_reshaped, axis=0))\n"
   ]
  },
  {
   "cell_type": "code",
   "execution_count": null,
   "metadata": {},
   "outputs": [],
   "source": [
    "\n",
    "f = plt.figure(figsize=(10, 5))\n",
    "plt.plot(np.sum(dy_dx_per_input_reshaped, axis=0))\n",
    "plt.xlim((147, 158))\n"
   ]
  },
  {
   "cell_type": "code",
   "execution_count": null,
   "metadata": {},
   "outputs": [],
   "source": [
    "print(X.columns[range(147, 158)])\n"
   ]
  },
  {
   "cell_type": "code",
   "execution_count": null,
   "metadata": {},
   "outputs": [],
   "source": [
    "a = np.sum(dy_dx_per_input_reshaped, axis=0)\n",
    "K = 10\n",
    "out = np.argsort(-a)[:K]\n",
    "print(out)\n",
    "print([i for i in out])\n",
    "for j in [i for i in out]:\n",
    "  print(X.columns[j])\n",
    "  plt.plot(X.values[:, j])"
   ]
  },
  {
   "cell_type": "code",
   "execution_count": null,
   "metadata": {},
   "outputs": [],
   "source": [
    "profiles = X.values[:, [149, 229, 151, 230, 150, 369, 231, 312, 308, 1]]\n",
    "np.save('profiles.npy', profiles)"
   ]
  },
  {
   "cell_type": "markdown",
   "metadata": {},
   "source": [
    "SCO4879-SCO4882: biosynthesis of teichulosonic acid\n",
    "\n",
    "predicted ATP transporter of phosphate: SCO4139, SCO4141, SCO4140, SCO4142\n",
    "SCO4140: pstA, phosphate ABC transport system permease protein\n",
    "SCO4141: pstPhosphate ABC transport system permease protein\n",
    "SCO4142: glycoprotein (PstS)\n",
    "\n",
    "SCO0494 : part of BGC0000325: coelichelin biosynthetic gene cluster"
   ]
  },
  {
   "cell_type": "code",
   "execution_count": null,
   "metadata": {},
   "outputs": [],
   "source": [
    "N = 0.01*np.identity(X.values.shape[0])\n",
    "D = np.identity(X.values.shape[1])*np.random.random(X.values.shape[1])\n",
    "print(D)\n",
    "cov_final = compute_cov_without_kronecker(X_flat, Y_flat, X_unflattener, Y_unflattener, np.random.random(X.values.shape[0]*X.values.shape[1]), 30.0)\n",
    "cov_final = cov_final + 1e-3*np.eye(len(cov_final))"
   ]
  },
  {
   "cell_type": "code",
   "execution_count": null,
   "metadata": {},
   "outputs": [],
   "source": [
    "plot_heatmap(cov_final, figsize=(4, 4), with_cell_lines=False)"
   ]
  },
  {
   "cell_type": "code",
   "execution_count": null,
   "metadata": {},
   "outputs": [],
   "source": [
    "from utils import equipotential_standard_normal\n",
    "\n",
    "n_samples = 15\n",
    "y_int = [i for i in range(Y_star.shape[0])]\n",
    "S = equipotential_standard_normal(2 * Y_star.shape[0], n_samples)\n",
    "L, lower = jax.scipy.linalg.cho_factor(cov_final, lower=True)\n",
    "samples = np.transpose(np.transpose(np.dot(L, S))+Y_flat)\n",
    "print(samples.shape)\n",
    "\n",
    "fig = plt.figure(1)\n",
    "for j, sample in enumerate(samples.T):\n",
    "    sample = Y_unflattener(sample)\n",
    "    for i, s in enumerate(sample): \n",
    "        plt.plot(s[0], s[1], alpha=[i for i in np.arange(0.1, 1, 1/(n_samples+2))][j], marker='.')\n",
    "               #marker=list(Line2D.markers.keys())[j])\n",
    "#plt.axis('equal')\n",
    "plt.xlabel('TSNE 1')\n",
    "plt.ylabel('TSNE 2')"
   ]
  },
  {
   "cell_type": "code",
   "execution_count": null,
   "metadata": {},
   "outputs": [],
   "source": [
    "#np.save('/ceph/ibmi/it/users/zabel/tsne/diss/datasets/Scoelicolor/results/M145_30_timepoints/samples_for_animation.npy', samples)"
   ]
  },
  {
   "cell_type": "code",
   "execution_count": null,
   "metadata": {},
   "outputs": [],
   "source": [
    "from animate_ifd import *\n",
    "animate(samples, labels_int, '/ceph/ibmi/it/users/zabel/tsne/diss/datasets/Scoelicolor/results/M145_30_timepoints/animation.gif', cmap='rainbow')"
   ]
  },
  {
   "cell_type": "code",
   "execution_count": null,
   "metadata": {},
   "outputs": [],
   "source": [
    "import matplotlib.pyplot as plt\n",
    "# Get the tab20 colormap\n",
    "tab20 = plt.get_cmap('tab20')\n",
    "\n",
    "# Extract colors as a list of RGB tuples\n",
    "colors = [tab20(i) for i in range(tab20.N)]\n",
    "\n",
    "n_samples = 20\n",
    "y_int = [i for i in range(Y_star.shape[0])]\n",
    "S = equipotential_standard_normal_within_one_std(2 * Y_star.shape[0], n_samples)\n",
    "L, lower = jax.scipy.linalg.cho_factor(cov_final, lower=True)\n",
    "samples = np.transpose(np.transpose(np.dot(L, S))+Y_flat)\n",
    "print(samples.shape)\n",
    "\n",
    "fig = plt.figure()\n",
    "for j, sample in enumerate(samples.T):\n",
    "    sample = Y_unflattener(sample)\n",
    "    for i, s in enumerate(sample): \n",
    "        plt.plot(s[0], s[1], c=colors[i], alpha=[i for i in np.arange(0.1, 1, 1/(n_samples+2))][j], marker='.')\n",
    "               #marker=list(Line2D.markers.keys())[j])\n",
    "#plt.axis('equal')\n",
    "plt.xlabel('TSNE 1')\n",
    "plt.ylabel('TSNE 2')"
   ]
  },
  {
   "cell_type": "code",
   "execution_count": null,
   "metadata": {},
   "outputs": [],
   "source": [
    "plt.scatter(dy_dx_per_input, flatten_vars)\n",
    "gene_names_subset = np.array(np.repeat(X.columns, 8)).reshape(396, 8).flatten(\"F\")\n",
    "for i, txt in enumerate(gene_names_subset):\n",
    "    plt.annotate(txt+','+str(i), (dy_dx_per_input[i], flatten_vars[i]))\n",
    "    plt.xlabel('Sensitivity')\n",
    "    plt.ylabel('Variance')"
   ]
  },
  {
   "cell_type": "code",
   "execution_count": null,
   "metadata": {},
   "outputs": [],
   "source": [
    "selected_data = pd.read_csv('/local_scratch.old/zabel/tsne/diss/datasets/Scoelicolor/selected_data.txt')\n",
    "selected_data = selected_data.values\n",
    "#labels = pd.read_csv('datasets/Thcells/labels.txt', header=None)\n",
    "#labels = labels.values.flatten().tolist()\n",
    "key = random.PRNGKey(41)\n",
    "#X = onp.array(random.normal(key, shape=(50, 50)))\n",
    "y_guess = random.normal(key, shape=(selected_data.shape[0], 2))\n",
    "#Y_star = TSNE(n_components=2, learning_rate=200, init=onp.array(y_guess), perplexity=30).fit_transform(X)\n",
    "selected_data_tsne = tsne_fwd(selected_data, y_guess)"
   ]
  },
  {
   "cell_type": "code",
   "execution_count": null,
   "metadata": {},
   "outputs": [],
   "source": []
  }
 ],
 "metadata": {
  "kernelspec": {
   "display_name": "Python 3",
   "language": "python",
   "name": "python3"
  },
  "language_info": {
   "codemirror_mode": {
    "name": "ipython",
    "version": 3
   },
   "file_extension": ".py",
   "mimetype": "text/x-python",
   "name": "python",
   "nbconvert_exporter": "python",
   "pygments_lexer": "ipython3",
   "version": "3.13.2"
  }
 },
 "nbformat": 4,
 "nbformat_minor": 2
}
