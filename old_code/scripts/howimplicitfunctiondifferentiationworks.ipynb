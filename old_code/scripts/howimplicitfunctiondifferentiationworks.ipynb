{
 "cells": [
  {
   "cell_type": "code",
   "execution_count": 1,
   "id": "3ca42feb-9c0c-4f7e-a953-aa8c4dd0cb63",
   "metadata": {},
   "outputs": [],
   "source": [
    "import jax\n",
    "from jax import random\n",
    "import jax.numpy as np\n",
    "from functools import partial"
   ]
  },
  {
   "cell_type": "markdown",
   "id": "e2bce493-bf0e-4313-9c53-bb66b4db5121",
   "metadata": {},
   "source": [
    "# JVPs & VJPs"
   ]
  },
  {
   "cell_type": "markdown",
   "id": "94839bcf-b991-4aa5-89d1-d2137721c8af",
   "metadata": {},
   "source": [
    "### VJPs\n",
    "jax.vjp(fun, primals) --> (fun(*primals), vjpfun)\n",
    "\n",
    "vjpfun(v) --> vjp"
   ]
  },
  {
   "cell_type": "code",
   "execution_count": 2,
   "id": "104e1808-d495-413d-a614-338526fb5613",
   "metadata": {},
   "outputs": [
    {
     "name": "stdout",
     "output_type": "stream",
     "text": [
      "3.6371899\n"
     ]
    }
   ],
   "source": [
    "def f(x):\n",
    "    return np.sin(x) * x ** 2\n",
    "\n",
    "x = 2.\n",
    "y = f(x)\n",
    "print(y)"
   ]
  },
  {
   "cell_type": "code",
   "execution_count": 3,
   "id": "e7290c96-a23a-41bb-927f-8fb32a202e08",
   "metadata": {},
   "outputs": [
    {
     "name": "stdout",
     "output_type": "stream",
     "text": [
      "3.6371899\n",
      "1.9726026\n"
     ]
    }
   ],
   "source": [
    "w = 1.\n",
    "y, f_vjp = jax.vjp(f, x)\n",
    "lmbda, = f_vjp(w)\n",
    "print(y)\n",
    "print(lmbda)"
   ]
  },
  {
   "cell_type": "markdown",
   "id": "b8d4b9f2-4a3f-4c13-9b01-409cb535cd33",
   "metadata": {},
   "source": [
    "### JVP\n",
    "jax.jvp(fun, primals, tangents) --> (fun(*primals), jvp)"
   ]
  },
  {
   "cell_type": "code",
   "execution_count": 4,
   "id": "0884bc25-bd59-47e9-9de1-faebe6571514",
   "metadata": {},
   "outputs": [
    {
     "name": "stdout",
     "output_type": "stream",
     "text": [
      "3.6371899\n",
      "1.9726026\n"
     ]
    }
   ],
   "source": [
    "delta_x = 1.\n",
    "y, delta_y = jax.jvp(f, (x,), (delta_x,))\n",
    "print(y)\n",
    "print(delta_y)"
   ]
  },
  {
   "cell_type": "markdown",
   "id": "0fccc460-288a-4640-beaa-d1fe1c7a7b8e",
   "metadata": {},
   "source": [
    "### Function Composition"
   ]
  },
  {
   "cell_type": "code",
   "execution_count": 5,
   "id": "3aed9141-8068-4410-ac3e-a45afaa98dc5",
   "metadata": {},
   "outputs": [],
   "source": [
    "h = np.sin\n",
    "g = lambda x: x ** 3\n",
    "f = lambda x: g(h(x))"
   ]
  },
  {
   "cell_type": "code",
   "execution_count": 6,
   "id": "afb2bdaf-fa33-47a5-b5cb-5af0d1c9f026",
   "metadata": {},
   "outputs": [
    {
     "name": "stdout",
     "output_type": "stream",
     "text": [
      "0.59582335 1.147721\n"
     ]
    }
   ],
   "source": [
    "x, delta_x = jax.jvp(f, (1.,), (1.,))\n",
    "print(x, delta_x)"
   ]
  },
  {
   "cell_type": "code",
   "execution_count": 7,
   "id": "3fc631c7-be41-43e9-af4c-da58f1abd7dc",
   "metadata": {},
   "outputs": [
    {
     "name": "stdout",
     "output_type": "stream",
     "text": [
      "0.59582335 1.147721\n"
     ]
    }
   ],
   "source": [
    "def f_jvp(x, delta_x):\n",
    "    y, delta_y = jax.jvp(h, (x,), (delta_x,))\n",
    "    z, delta_z = jax.jvp(g, (y,), (delta_y,))\n",
    "    return z, delta_z\n",
    "z, delta_z = f_jvp(1., 1.)\n",
    "print(z, delta_z)"
   ]
  },
  {
   "cell_type": "code",
   "execution_count": 8,
   "id": "f3a4f160-8b74-4087-ac8e-b0304a2b2663",
   "metadata": {},
   "outputs": [
    {
     "name": "stdout",
     "output_type": "stream",
     "text": [
      "0.59582335 1.147721\n"
     ]
    }
   ],
   "source": [
    "def f_vjp(x, w):\n",
    "    y, h_vjp = jax.vjp(h, x)\n",
    "    z, g_vjp = jax.vjp(g, y)\n",
    "    \n",
    "    lmda_y, = g_vjp(w)\n",
    "    lmda_x, = h_vjp(lmda_y)\n",
    "    return z, lmda_x\n",
    "z, lmda = f_vjp(1., 1.)\n",
    "print(z, lmda)"
   ]
  },
  {
   "cell_type": "markdown",
   "id": "7dc2bff1-cbf8-4002-bc2c-12d80e406d56",
   "metadata": {},
   "source": [
    "# Optimization problem"
   ]
  },
  {
   "cell_type": "code",
   "execution_count": 9,
   "id": "449952fb-80b7-4ea6-867b-d06469362361",
   "metadata": {},
   "outputs": [],
   "source": [
    "def fwd_solver(f, z_init):\n",
    "    z_prev, z = z_init, f(z_init)\n",
    "    while np.linalg.norm(z_prev - z) > 1e-5:\n",
    "        z_prev, z = z, f(z)\n",
    "    return z\n",
    "\n",
    "def newton_solver(f, z_init):\n",
    "    f_root = lambda z: f(z) - z\n",
    "    g = lambda z: z - np.linalg.solve(jax.jacobian(f_root)(z), f_root(z))\n",
    "    return fwd_solver(g, z_init)\n",
    "\n",
    "def fixed_point_layer(solver, f, params, x):\n",
    "    z_star = solver(lambda z: f(params, x, z), z_init=np.zeros_like(x))\n",
    "    return z_star"
   ]
  },
  {
   "cell_type": "code",
   "execution_count": 10,
   "id": "8ab08b3f-d8fe-4376-bade-31caa66acda9",
   "metadata": {},
   "outputs": [],
   "source": [
    "# f = tanh(Wz * x)\n",
    "f = lambda W, x, z: np.tanh(np.dot(W, z) + x)\n",
    "\n",
    "ndim = 10\n",
    "W = random.normal(random.PRNGKey(0), (ndim, ndim)) / np.sqrt(ndim)\n",
    "x = random.normal(random.PRNGKey(1), (ndim,))"
   ]
  },
  {
   "cell_type": "code",
   "execution_count": null,
   "id": "50b544a5-c3bc-4130-80c4-92292d3c8a06",
   "metadata": {},
   "outputs": [],
   "source": [
    "z_star = fixed_point_layer(newton_solver, f, W, x)\n",
    "print(z_star)\n",
    "#print(f(z_star))"
   ]
  },
  {
   "cell_type": "markdown",
   "id": "da9ccaaf-cbea-440b-8e56-88a9dff5fa2f",
   "metadata": {},
   "source": [
    "### vjp expression for fixed point solution"
   ]
  },
  {
   "cell_type": "code",
   "execution_count": 65,
   "id": "5fcea317-1311-43fe-a1c5-d0d3ef2b7b2a",
   "metadata": {},
   "outputs": [],
   "source": [
    "@partial(jax.custom_vjp, nondiff_argnums=(0, 1))\n",
    "def fixed_point_layer(solver, f, params, x):\n",
    "    z_star = solver(lambda z: f(params, x, z), z_init=np.zeros_like(x))\n",
    "    return z_star\n",
    "\n",
    "def fixed_point_layer_fwd(solver, f, params, x):\n",
    "    z_star = fixed_point_layer(solver, f, params, x)\n",
    "    return z_star, (params, x, z_star)\n",
    "\n",
    "def fixed_point_layer_bwd(solver, f, res, z_star_bar):\n",
    "    params, x, z_star = res\n",
    "    _, vjp_a = jax.vjp(lambda params, x: f(params, x, z_star), params, x)\n",
    "    _, vjp_z = jax.vjp(lambda z: f(params, x, z), z_star)\n",
    "    return vjp_a(solver(lambda u: vjp_z(u)[0] + z_star_bar,\n",
    "                      z_init=np.zeros_like(z_star)))\n",
    "fixed_point_layer.defvjp(fixed_point_layer_fwd, fixed_point_layer_bwd)"
   ]
  },
  {
   "cell_type": "code",
   "execution_count": 66,
   "id": "664d8df4-010e-4af1-83af-0d86ff7d7c97",
   "metadata": {},
   "outputs": [
    {
     "name": "stdout",
     "output_type": "stream",
     "text": [
      "[ 0.00752357 -0.8125729  -1.1404755  -0.04860361 -0.7125366  -0.55805445\n",
      "  0.6697886   1.1068368  -0.09697603  0.97840637]\n"
     ]
    }
   ],
   "source": [
    "g = jax.grad(lambda W: fixed_point_layer(fwd_solver, f, W, x).sum())(W)\n",
    "print(g[0])"
   ]
  },
  {
   "cell_type": "code",
   "execution_count": 67,
   "id": "a8f2237c-2b3e-4694-9e45-ff3533461f74",
   "metadata": {},
   "outputs": [
    {
     "name": "stdout",
     "output_type": "stream",
     "text": [
      "[ 0.00752136 -0.8125742  -1.1404786  -0.04860303 -0.7125376  -0.55805624\n",
      "  0.6697907   1.1068398  -0.09697363  0.9784083 ]\n"
     ]
    }
   ],
   "source": [
    "g = jax.grad(lambda W: fixed_point_layer(newton_solver, f, W, x).sum())(W)\n",
    "print(g[0])"
   ]
  },
  {
   "cell_type": "code",
   "execution_count": null,
   "id": "8f5b1804-1763-411c-bbb8-bcace05e4823",
   "metadata": {},
   "outputs": [],
   "source": []
  }
 ],
 "metadata": {
  "kernelspec": {
   "display_name": "Python 3 (ipykernel)",
   "language": "python",
   "name": "python3"
  },
  "language_info": {
   "codemirror_mode": {
    "name": "ipython",
    "version": 3
   },
   "file_extension": ".py",
   "mimetype": "text/x-python",
   "name": "python",
   "nbconvert_exporter": "python",
   "pygments_lexer": "ipython3",
   "version": "3.8.12"
  }
 },
 "nbformat": 4,
 "nbformat_minor": 5
}
