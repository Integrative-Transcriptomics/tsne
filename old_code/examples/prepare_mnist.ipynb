{
 "cells": [
  {
   "cell_type": "code",
   "execution_count": 7,
   "id": "f3671bdb-1c31-455c-aa4a-1fd69d22477f",
   "metadata": {},
   "outputs": [],
   "source": [
    "from mnist import MNIST\n",
    "from sklearn.decomposition import PCA\n",
    "from sklearn.preprocessing import MinMaxScaler\n",
    "import numpy as np\n",
    "import pickle\n",
    "import gzip"
   ]
  },
  {
   "cell_type": "code",
   "execution_count": 8,
   "id": "44404cb0-615f-4fd4-aeeb-dc7ca1650d36",
   "metadata": {},
   "outputs": [
    {
     "name": "stdout",
     "output_type": "stream",
     "text": [
      "(60000, 784)\n"
     ]
    }
   ],
   "source": [
    "mndata = MNIST('./data/mnist/')\n",
    "images, labels = mndata.load_training()\n",
    "images = np.array(images)\n",
    "labels = np.array(labels)\n",
    "print(images.shape)"
   ]
  },
  {
   "cell_type": "code",
   "execution_count": 9,
   "id": "6a24564d-a41f-42e0-8b58-f11b929b00c0",
   "metadata": {},
   "outputs": [],
   "source": [
    "scaler = MinMaxScaler()\n",
    "images = scaler.fit_transform(images)"
   ]
  },
  {
   "cell_type": "code",
   "execution_count": 10,
   "id": "9d1b7af1-01b6-4343-b505-9466005e61f7",
   "metadata": {},
   "outputs": [],
   "source": [
    "pca = PCA(n_components=50)\n",
    "X = pca.fit_transform(images)"
   ]
  },
  {
   "cell_type": "code",
   "execution_count": 11,
   "id": "9474f2ae-a8af-48f9-b74b-a274297528ce",
   "metadata": {},
   "outputs": [],
   "source": [
    "data_dict = {\"pca_50\": X,\n",
    "             \"labels\": labels}"
   ]
  },
  {
   "cell_type": "code",
   "execution_count": 12,
   "id": "cc74cfaf-7a33-4412-ad7a-9806433e269a",
   "metadata": {},
   "outputs": [],
   "source": [
    "with gzip.open(\"data/mnist/mnist.pkl.gz\", \"wb\") as f:\n",
    "    pickle.dump(data_dict, f)"
   ]
  },
  {
   "cell_type": "code",
   "execution_count": null,
   "id": "fb56534a-d89f-48fe-be64-ea6e89fc50a0",
   "metadata": {},
   "outputs": [],
   "source": []
  }
 ],
 "metadata": {
  "kernelspec": {
   "display_name": "Python 3 (ipykernel)",
   "language": "python",
   "name": "python3"
  },
  "language_info": {
   "codemirror_mode": {
    "name": "ipython",
    "version": 3
   },
   "file_extension": ".py",
   "mimetype": "text/x-python",
   "name": "python",
   "nbconvert_exporter": "python",
   "pygments_lexer": "ipython3",
   "version": "3.8.12"
  }
 },
 "nbformat": 4,
 "nbformat_minor": 5
}
