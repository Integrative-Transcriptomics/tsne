{
 "cells": [
  {
   "cell_type": "code",
   "execution_count": 1,
   "metadata": {},
   "outputs": [],
   "source": [
    "from pseudo_IFD_tsne import *\n",
    "#from utils import load_data, MidpointNormalize, equipotential_standard_normal, plot_heatmaps\n",
    "from utils import MidpointNormalize, load_data\n",
    "import matplotlib.pyplot as plt\n",
    "#import tikzplotlib\n",
    "\n",
    "from tueplots import cycler, fonts, fontsizes, bundles\n",
    "from tueplots.constants import markers\n",
    "from tueplots.constants.color import palettes\n",
    "\n",
    "plt.rcParams.update(cycler.cycler(color=palettes.tue_plot))\n",
    "plt.rcParams.update(fonts.aistats2022_tex(family=\"serif\"))\n",
    "plt.rcParams.update(fontsizes.aistats2022())\n",
    "plt.rcParams['axes.grid'] = False"
   ]
  },
  {
   "cell_type": "code",
   "execution_count": 2,
   "metadata": {},
   "outputs": [],
   "source": [
    "def KL_divergence(X_flat, Y_flat, X_unflattener, Y_unflattener):\n",
    "    \"\"\"\n",
    "    (R^nxp x R^nxp)--> R\n",
    "    \"\"\"\n",
    "    X = X_unflattener(X_flat)\n",
    "    Y = Y_unflattener(Y_flat)\n",
    "    learning_rate, perplexity = (200, 30.0)\n",
    "    P = x2p(X, tol=1e-5, perplexity=perplexity)\n",
    "    P = (P + np.transpose(P))\n",
    "    P = P / np.sum(P)      # Why don't we devide by 2N as described everywhere?\n",
    "    P = np.maximum(P, 1e-12)\n",
    "    Q, _ = y2q(Y)\n",
    "    return np.sum(P * (np.log(P+1e-10) - np.log(Q+1e-10)))"
   ]
  },
  {
   "cell_type": "code",
   "execution_count": 3,
   "metadata": {},
   "outputs": [
    {
     "name": "stdout",
     "output_type": "stream",
     "text": [
      "===> Finding 90 nearest neighbors using Annoy approximate search using euclidean distance...\n",
      "   --> Time elapsed: 0.02 seconds\n",
      "===> Calculating affinity matrix...\n",
      "   --> Time elapsed: 0.00 seconds\n"
     ]
    }
   ],
   "source": [
    "#X, y = make_blobs(n_samples=50, n_features=50, centers=4, random_state=0, shuffle=False, cluster_std=[0.1, 3, 3, 3])\n",
    "X, y = load_data(100)\n",
    "key = random.PRNGKey(41)\n",
    "#X = onp.array(random.normal(key, shape=(50, 50)))\n",
    "y_guess = random.normal(key, shape=(X.shape[0], 2))\n",
    "#Y_star = TSNE(n_components=2, learning_rate=200, init=onp.array(y_guess), perplexity=30).fit_transform(X)\n",
    "Y_star = tsne_fwd(X, y_guess)\n",
    "\n",
    "X_flat, X_unflattener = flatten_util.ravel_pytree(X)   # row-wise\n",
    "Y_flat, Y_unflattener = flatten_util.ravel_pytree(Y_star)\n",
    "\n",
    "primals = (X_flat, Y_flat)\n",
    "KL_divergence_fun = partial(KL_divergence, X_unflattener=X_unflattener, Y_unflattener= Y_unflattener)\n"
   ]
  },
  {
   "cell_type": "code",
   "execution_count": 4,
   "metadata": {},
   "outputs": [
    {
     "name": "stdout",
     "output_type": "stream",
     "text": [
      "Computing pairwise distances...\n",
      "Starting binary search\n",
      "Entered binary search function\n"
     ]
    }
   ],
   "source": [
    "fun = lambda y: KL_divergence(X_flat, y, X_unflattener, Y_unflattener)\n",
    "H = jax.hessian(fun)(Y_flat)"
   ]
  },
  {
   "cell_type": "code",
   "execution_count": 5,
   "metadata": {},
   "outputs": [],
   "source": [
    "H_pinv = np.linalg.pinv(H, hermitian=True)"
   ]
  },
  {
   "cell_type": "code",
   "execution_count": 9,
   "metadata": {},
   "outputs": [
    {
     "name": "stdout",
     "output_type": "stream",
     "text": [
      "Computing pairwise distances...\n",
      "Starting binary search\n",
      "Entered binary search function\n"
     ]
    }
   ],
   "source": [
    "mixed_Jacobian = Mixed_Jacobian_x_y(KL_divergence, X, Y_star)"
   ]
  },
  {
   "cell_type": "code",
   "execution_count": 10,
   "metadata": {},
   "outputs": [
    {
     "data": {
      "text/plain": [
       "Array([[-4.19206859e-04, -1.58331764e-04, -2.78748252e-04, ...,\n",
       "        -5.15662464e-08, -2.41491307e-08, -4.62240365e-07],\n",
       "       [-1.32810937e-05,  2.25255877e-04, -1.68462182e-04, ...,\n",
       "        -1.56484361e-07, -1.47956996e-07, -5.86169563e-07],\n",
       "       [ 1.03584916e-05, -2.89319075e-07,  1.36870403e-06, ...,\n",
       "         2.49618921e-08, -1.01669855e-08, -1.39819605e-08],\n",
       "       ...,\n",
       "       [-2.26961288e-06, -8.29196324e-06, -2.92827053e-07, ...,\n",
       "        -5.38742370e-07, -1.78460894e-07,  6.18429681e-07],\n",
       "       [ 4.69996905e-07,  1.17565310e-06, -8.02914315e-07, ...,\n",
       "        -6.59982979e-05, -7.43321143e-05, -2.54832667e-05],\n",
       "       [ 7.67369102e-09,  2.78035600e-07, -7.20468449e-08, ...,\n",
       "        -6.97024007e-06, -7.75038716e-05, -2.40416521e-05]],      dtype=float32)"
      ]
     },
     "execution_count": 10,
     "metadata": {},
     "output_type": "execute_result"
    }
   ],
   "source": [
    "mixed_Jacobian"
   ]
  },
  {
   "cell_type": "code",
   "execution_count": 25,
   "metadata": {},
   "outputs": [
    {
     "name": "stdout",
     "output_type": "stream",
     "text": [
      "Computing pairwise distances...\n",
      "Starting binary search\n",
      "Entered binary search function\n",
      "Computing pairwise distances...\n",
      "Starting binary search\n",
      "Entered binary search function\n"
     ]
    }
   ],
   "source": [
    "first = lambda X: jacfwd(KL_divergence_fun, argnums=1)(X, Y_flat)\n",
    "_, f_vjp = vjp(first, X_flat)\n",
    "_, f_jvp = jax.linearize(first, X_flat)\n",
    "\n",
    "def mixed_Jacobian_vector_product_1(f, first, primals, v):\n",
    "    X, Y = primals\n",
    "    second, second_t = jvp(first, (X,), (v,)) # --> first column of Jacobian!!!\n",
    "    return second, second_t"
   ]
  },
  {
   "cell_type": "code",
   "execution_count": 27,
   "metadata": {},
   "outputs": [],
   "source": [
    "vmap_fun = lambda i: mixed_Jacobian_vector_product_1(KL_divergence_fun, f_jvp, (X_flat, Y_flat), i)[1]\n",
    "full_mixed_j = vmap(vmap_fun)(np.eye(len(X_flat)))"
   ]
  },
  {
   "cell_type": "code",
   "execution_count": 22,
   "metadata": {},
   "outputs": [
    {
     "name": "stdout",
     "output_type": "stream",
     "text": [
      "Computing pairwise distances...\n",
      "Starting binary search\n",
      "Entered binary search function\n"
     ]
    }
   ],
   "source": [
    "primals = (X_flat, Y_flat)\n",
    "m_j = jacfwd(jacfwd(KL_divergence_fun, 0), 1)(*primals)"
   ]
  },
  {
   "cell_type": "code",
   "execution_count": 22,
   "metadata": {},
   "outputs": [
    {
     "name": "stdout",
     "output_type": "stream",
     "text": [
      "Compute v3\n",
      "Computing pairwise distances...\n",
      "Starting binary search\n",
      "Entered binary search function\n"
     ]
    }
   ],
   "source": [
    "test = mixed_Jacobian_vector_product_2(KL_divergence_fun, (X_flat, Y_flat), np.eye(len(Y_flat))[0])"
   ]
  },
  {
   "cell_type": "code",
   "execution_count": 19,
   "metadata": {},
   "outputs": [
    {
     "name": "stdout",
     "output_type": "stream",
     "text": [
      "Computing pairwise distances...\n",
      "Starting binary search\n",
      "Entered binary search function\n"
     ]
    }
   ],
   "source": [
    "second, second_t = mixed_Jacobian_vector_product_1(KL_divergence_fun, (X_flat, Y_flat), np.eye(len(X_flat))[0])"
   ]
  },
  {
   "cell_type": "code",
   "execution_count": 6,
   "metadata": {},
   "outputs": [
    {
     "name": "stdout",
     "output_type": "stream",
     "text": [
      "Computing pairwise distances...\n",
      "Starting binary search\n",
      "Entered binary search function\n"
     ]
    }
   ],
   "source": [
    "vmap_fun = lambda i: mixed_Jacobian_vector_product_1(KL_divergence_fun, (X_flat, Y_flat), i)[1]\n",
    "full_mixed_j = vmap(vmap_fun)(np.eye(len(X_flat)))\n"
   ]
  },
  {
   "cell_type": "code",
   "execution_count": 6,
   "metadata": {},
   "outputs": [
    {
     "name": "stdout",
     "output_type": "stream",
     "text": [
      "Compute v3\n",
      "Computing pairwise distances...\n",
      "Starting binary search\n",
      "Entered binary search function\n",
      "77.95730757713318\n"
     ]
    }
   ],
   "source": [
    "M = np.eye(len(Y_flat))\n",
    "time_start = time.time()\n",
    "dy_dx = M_d_y_star_d_x_P(KL_divergence_fun, primals, M, H_pinv)\n",
    "time_end = time.time()\n",
    "print(time_end - time_start)"
   ]
  },
  {
   "cell_type": "code",
   "execution_count": 14,
   "metadata": {},
   "outputs": [
    {
     "name": "stdout",
     "output_type": "stream",
     "text": [
      "Compute v3\n",
      "Computing pairwise distances...\n",
      "Starting binary search\n",
      "Entered binary search function\n",
      "20.373340845108032\n"
     ]
    }
   ],
   "source": [
    "v = np.eye(len(Y_flat))[0]\n",
    "time_start = time.time()\n",
    "dy_dx = V_d_y_star_d_x_P(KL_divergence_fun, primals, v, H_pinv)\n",
    "time_end = time.time()\n",
    "print(time_end - time_start)"
   ]
  },
  {
   "cell_type": "code",
   "execution_count": null,
   "metadata": {},
   "outputs": [],
   "source": []
  }
 ],
 "metadata": {
  "kernelspec": {
   "display_name": "Python 3",
   "language": "python",
   "name": "python3"
  },
  "language_info": {
   "codemirror_mode": {
    "name": "ipython",
    "version": 3
   },
   "file_extension": ".py",
   "mimetype": "text/x-python",
   "name": "python",
   "nbconvert_exporter": "python",
   "pygments_lexer": "ipython3",
   "version": "3.11.9"
  }
 },
 "nbformat": 4,
 "nbformat_minor": 2
}
