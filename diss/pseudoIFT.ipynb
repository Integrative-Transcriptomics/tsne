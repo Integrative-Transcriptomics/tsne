{
 "cells": [
  {
   "cell_type": "code",
   "execution_count": 1,
   "metadata": {},
   "outputs": [],
   "source": [
    "from pseudo_IFD_tsne import *\n",
    "#from utils import load_data, MidpointNormalize, equipotential_standard_normal, plot_heatmaps\n",
    "from utils import MidpointNormalize, load_data\n",
    "import matplotlib.pyplot as plt\n",
    "import tikzplotlib\n",
    "\n",
    "from tueplots import cycler, fonts, fontsizes, bundles\n",
    "from tueplots.constants import markers\n",
    "from tueplots.constants.color import palettes\n",
    "\n",
    "plt.rcParams.update(cycler.cycler(color=palettes.tue_plot))\n",
    "plt.rcParams.update(fonts.aistats2022_tex(family=\"serif\"))\n",
    "plt.rcParams.update(fontsizes.aistats2022())\n",
    "plt.rcParams['axes.grid'] = False"
   ]
  },
  {
   "cell_type": "code",
   "execution_count": 2,
   "metadata": {},
   "outputs": [],
   "source": [
    "def KL_divergence(X_flat, Y_flat, X_unflattener, Y_unflattener):\n",
    "    \"\"\"\n",
    "    (R^nxp x R^nxp)--> R\n",
    "    \"\"\"\n",
    "    X = X_unflattener(X_flat)\n",
    "    Y = Y_unflattener(Y_flat)\n",
    "    learning_rate, perplexity = (200, 30.0)\n",
    "    P = x2p(X, tol=1e-5, perplexity=perplexity)\n",
    "    P = (P + np.transpose(P))\n",
    "    P = P / np.sum(P)      # Why don't we devide by 2N as described everywhere?\n",
    "    P = np.maximum(P, 1e-12)\n",
    "    Q, _ = y2q(Y)\n",
    "    return np.sum(P * (np.log(P+1e-10) - np.log(Q+1e-10)))"
   ]
  },
  {
   "cell_type": "code",
   "execution_count": 3,
   "metadata": {},
   "outputs": [
    {
     "name": "stderr",
     "output_type": "stream",
     "text": [
      "WARNING: All log messages before absl::InitializeLog() is called are written to STDERR\n",
      "I0000 00:00:1713189990.405930       1 tfrt_cpu_pjrt_client.cc:349] TfrtCpuClient created.\n"
     ]
    },
    {
     "name": "stdout",
     "output_type": "stream",
     "text": [
      "===> Finding 49 nearest neighbors using Annoy approximate search using euclidean distance...\n",
      "   --> Time elapsed: 0.01 seconds\n",
      "===> Calculating affinity matrix...\n",
      "   --> Time elapsed: 0.00 seconds\n"
     ]
    }
   ],
   "source": [
    "#X, y = make_blobs(n_samples=50, n_features=50, centers=4, random_state=0, shuffle=False, cluster_std=[0.1, 3, 3, 3])\n",
    "X, y = load_data(50)\n",
    "key = random.PRNGKey(41)\n",
    "#X = onp.array(random.normal(key, shape=(50, 50)))\n",
    "y_guess = random.normal(key, shape=(X.shape[0], 2))\n",
    "#Y_star = TSNE(n_components=2, learning_rate=200, init=onp.array(y_guess), perplexity=30).fit_transform(X)\n",
    "Y_star = tsne_fwd(X, y_guess)\n",
    "\n",
    "X_flat, X_unflattener = flatten_util.ravel_pytree(X)   # row-wise\n",
    "Y_flat, Y_unflattener = flatten_util.ravel_pytree(Y_star)\n",
    "\n",
    "primals = (X_flat, Y_flat)\n",
    "KL_divergence_fun = partial(KL_divergence, X_unflattener=X_unflattener, Y_unflattener= Y_unflattener)\n"
   ]
  },
  {
   "cell_type": "code",
   "execution_count": 4,
   "metadata": {},
   "outputs": [
    {
     "name": "stdout",
     "output_type": "stream",
     "text": [
      "Computing pairwise distances...\n",
      "Starting binary search\n",
      "Entered binary search function\n"
     ]
    }
   ],
   "source": [
    "fun = lambda y: KL_divergence(X_flat, y, X_unflattener, Y_unflattener)\n",
    "H = jax.hessian(fun)(Y_flat)"
   ]
  },
  {
   "cell_type": "code",
   "execution_count": 5,
   "metadata": {},
   "outputs": [],
   "source": [
    "H_pinv = np.linalg.pinv(H, hermitian=True)"
   ]
  },
  {
   "cell_type": "code",
   "execution_count": 7,
   "metadata": {},
   "outputs": [
    {
     "name": "stdout",
     "output_type": "stream",
     "text": [
      "Computing pairwise distances...\n",
      "Starting binary search\n",
      "Entered binary search function\n",
      "Computing pairwise distances...\n",
      "Starting binary search\n",
      "Entered binary search function\n",
      "[[ 2.0722039e-02  1.5057951e-01 -9.8503819e-03 ... -1.4805503e-03\n",
      "   1.7707280e-03  6.0440018e-04]\n",
      " [ 6.3704476e-02 -1.6220343e-01  2.2229955e-01 ... -2.0348813e-04\n",
      "   4.5886193e-03 -1.1989415e-03]\n",
      " [ 3.9617132e-02  1.5541990e-02 -9.4627598e-03 ... -6.2873559e-03\n",
      "   1.4627682e-03 -3.0590252e-03]\n",
      " ...\n",
      " [ 1.4788301e-02 -2.2593169e-02  1.1844771e-02 ...  6.7093177e-04\n",
      "   2.8862339e-03  1.5237431e-04]\n",
      " [-7.7889685e-04 -7.1484102e-03  1.1437444e-02 ... -3.1381760e-02\n",
      "  -1.2881519e-02  6.1443285e-03]\n",
      " [ 2.8236836e-02  2.4716349e-02 -1.8759809e-02 ... -2.0767743e-02\n",
      "   2.2039216e-02 -3.9588530e-02]]\n"
     ]
    }
   ],
   "source": [
    "dy, H, J = d_y_star_d_x_outer(KL_divergence, X, Y_star)\n",
    "print(dy)"
   ]
  },
  {
   "cell_type": "code",
   "execution_count": 15,
   "metadata": {},
   "outputs": [
    {
     "name": "stdout",
     "output_type": "stream",
     "text": [
      "Compute v3\n",
      "Computing pairwise distances...\n",
      "Starting binary search\n",
      "Entered binary search function\n",
      "21.63188099861145\n"
     ]
    }
   ],
   "source": [
    "M = np.eye(len(Y_flat))\n",
    "time_start = time.time()\n",
    "dy_dx = M_d_y_star_d_x_P(KL_divergence_fun, primals, M, H_pinv)\n",
    "time_end = time.time()\n",
    "print(time_end - time_start)"
   ]
  },
  {
   "cell_type": "code",
   "execution_count": 16,
   "metadata": {},
   "outputs": [
    {
     "name": "stdout",
     "output_type": "stream",
     "text": [
      "[[ 2.1332193e-02  1.5068763e-01 -9.7194500e-03 ... -1.5453796e-03\n",
      "   1.8262810e-03  5.4034288e-04]\n",
      " [ 6.5048568e-02 -1.6308565e-01  2.2328450e-01 ... -2.9386231e-04\n",
      "   4.7278106e-03 -1.3226976e-03]\n",
      " [ 4.0290311e-02  1.5672728e-02 -9.4432291e-03 ... -6.3919667e-03\n",
      "   1.5151039e-03 -3.1401573e-03]\n",
      " ...\n",
      " [ 1.5284296e-02 -2.3027856e-02  1.2217485e-02 ...  6.4227590e-04\n",
      "   2.9427425e-03  1.0945520e-04]\n",
      " [-1.1989936e-03 -7.0138369e-03  1.1357425e-02 ... -3.1405289e-02\n",
      "  -1.2952458e-02  6.1942330e-03]\n",
      " [ 2.8961241e-02  2.4745701e-02 -1.8697346e-02 ... -2.0916153e-02\n",
      "   2.2118343e-02 -3.9738230e-02]]\n"
     ]
    }
   ],
   "source": [
    "print(dy_dx)"
   ]
  },
  {
   "cell_type": "code",
   "execution_count": 14,
   "metadata": {},
   "outputs": [
    {
     "name": "stdout",
     "output_type": "stream",
     "text": [
      "Compute v3\n",
      "Computing pairwise distances...\n",
      "Starting binary search\n",
      "Entered binary search function\n",
      "20.373340845108032\n"
     ]
    }
   ],
   "source": [
    "v = np.eye(len(Y_flat))[0]\n",
    "time_start = time.time()\n",
    "dy_dx = V_d_y_star_d_x_P(KL_divergence_fun, primals, v, H_pinv)\n",
    "time_end = time.time()\n",
    "print(time_end - time_start)"
   ]
  },
  {
   "cell_type": "code",
   "execution_count": 12,
   "metadata": {},
   "outputs": [
    {
     "name": "stdout",
     "output_type": "stream",
     "text": [
      "[ 0.02133219  0.15068763 -0.00971945 ... -0.00154538  0.00182628\n",
      "  0.00054034]\n"
     ]
    }
   ],
   "source": [
    "print(dy_dx)"
   ]
  },
  {
   "cell_type": "code",
   "execution_count": null,
   "metadata": {},
   "outputs": [],
   "source": []
  }
 ],
 "metadata": {
  "kernelspec": {
   "display_name": "Python 3",
   "language": "python",
   "name": "python3"
  },
  "language_info": {
   "codemirror_mode": {
    "name": "ipython",
    "version": 3
   },
   "file_extension": ".py",
   "mimetype": "text/x-python",
   "name": "python",
   "nbconvert_exporter": "python",
   "pygments_lexer": "ipython3",
   "version": "3.11.8"
  }
 },
 "nbformat": 4,
 "nbformat_minor": 2
}
