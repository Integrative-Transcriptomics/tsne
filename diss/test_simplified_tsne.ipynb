{
 "cells": [
  {
   "cell_type": "code",
   "execution_count": 1,
   "metadata": {},
   "outputs": [],
   "source": [
    "import jax.numpy as np\n",
    "from utils import MidpointNormalize, load_data\n",
    "from jax import random, flatten_util, vjp, jvp, custom_vjp, jacfwd, jacrev, vmap, grad\n",
    "from IFD_tsne import tsne_fwd\n",
    "import jax\n",
    "import matplotlib.pylab as plt\n",
    "import seaborn as sns"
   ]
  },
  {
   "cell_type": "code",
   "execution_count": 13,
   "metadata": {},
   "outputs": [],
   "source": [
    "# Pairwise squared Euclidean distance\n",
    "def get_dists(Z):\n",
    "    \"\"\"\n",
    "    Compute all pairwise distances of each data points z_i in Z.\n",
    "    \n",
    "    Params:\n",
    "        Z: matrix with n rows. Each row is the z_i\n",
    "        \n",
    "    Return:\n",
    "        All pairwise distances of each data points z_i in Z\n",
    "    \"\"\"\n",
    "\n",
    "    \n",
    "    diff = Z[:, :, None] - Z[:, :, None].T\n",
    "    return (np.square(diff)).sum(1)\n",
    "\n",
    "def perp_fn(i, beta_i, dists, perplexity_function):\n",
    "    \"\"\"\n",
    "    Function that takes an index i, beta_i, and all pairwise distances of X\n",
    "    and return the perplexity of p_{j|i} (Eq. 1 in the paper).\n",
    "    \"\"\"\n",
    "    exp_dists = np.exp(-dists[i] / beta_i)\n",
    "    exp_dists.at[i].set(0.)\n",
    "    p_j_given_i = exp_dists / exp_dists.sum()\n",
    "\n",
    "    perp_i = perplexity_function(p_j_given_i)\n",
    "\n",
    "    return perp_i\n",
    "\n",
    "def binary_search(perp, dists, perplexity_function):\n",
    "    \"\"\"\n",
    "    Let beta_i := 2 \\sigma_i^2. This function computes (beta_i) that achieve\n",
    "    the desired perplexity.\n",
    "    \n",
    "    Params:                 \n",
    "        perp: Desired perplexity value.\n",
    "        \n",
    "        dists: Pairwise squared Euclidean distances, stored in an (n x n)-matrix\n",
    "        \n",
    "        perplexity_function: A function that return the perplexity number given a probability vector\n",
    "        \n",
    "    Returns:\n",
    "        betas: (n,) array of beta_i's \n",
    "    \"\"\"    \n",
    "    n = len(dists)\n",
    "    betas = []\n",
    "    \n",
    "    for i in range(n):\n",
    "        # Binary search\n",
    "        min_beta, max_beta = 1e-10, 1e10\n",
    "\n",
    "        for _ in range(1000):\n",
    "            mid_beta = (min_beta + max_beta) / 2\n",
    "            p_mid = perp_fn(i, mid_beta, dists, perplexity_function)\n",
    "\n",
    "            if p_mid >= perp:\n",
    "                max_beta = mid_beta\n",
    "            else:\n",
    "                min_beta = mid_beta\n",
    "\n",
    "            # Close enough, use the current mid value\n",
    "            if np.abs(p_mid - perp) < 1e-3:\n",
    "                break\n",
    "                \n",
    "        betas.append(mid_beta)\n",
    "\n",
    "    return np.array(betas)\n",
    "\n",
    "def get_perplexity(p):\n",
    "    \"\"\"\n",
    "    Returns the perplexity of p. See https://en.wikipedia.org/wiki/Perplexity\n",
    "    \n",
    "    Params:\n",
    "        p: probability vector\n",
    "        \n",
    "    Return:\n",
    "        A single number---the perplexity of p\n",
    "    \"\"\"\n",
    "    entropy = -np.sum(p * np.log2(p + 1e-10))\n",
    "    return 2**entropy\n",
    "\n",
    "\n",
    "def get_beta(perp, dists_X):\n",
    "    \"\"\"\n",
    "    Let beta_i := 2 \\sigma_i^2. This function computes (beta_i) that achieve\n",
    "    the desired perplexity.\n",
    "    \n",
    "    Params:                 \n",
    "        perp: Desired perplexity value.\n",
    "        \n",
    "        dists_X: Pairwise squared Euclidean distances between points in X, stored in an (n x n)-matrix\n",
    "                \n",
    "    Returns:\n",
    "        betas: (n,) array of beta_i's \n",
    "    \"\"\"    \n",
    "    return binary_search(perp, dists_X, get_perplexity)\n",
    "\n",
    "def logSoftmax(x, i):\n",
    "    \"\"\"Compute softmax for vector x.\"\"\"\n",
    "    max_x = np.max(x)\n",
    "    exp_x = np.exp(x - max_x)\n",
    "    sum_exp_x = np.sum(exp_x)\n",
    "    log_sum_exp_x = np.log(sum_exp_x)\n",
    "    max_plus_log_sum_exp_x = max_x + log_sum_exp_x\n",
    "    log_probs = x - max_plus_log_sum_exp_x\n",
    "\n",
    "    # Recover probs\n",
    "    exp_log_probs = np.exp(log_probs)\n",
    "    exp_log_probs = exp_log_probs.at[i].set(0.)\n",
    "    sum_log_probs = np.sum(exp_log_probs)\n",
    "    probs = exp_log_probs / sum_log_probs\n",
    "    return probs\n",
    "\n",
    "def get_p_j_given_i(dists_X, perp):\n",
    "    \"\"\"\n",
    "    Compute the conditional probabilities p_{j|i}'s\n",
    "    \n",
    "    Params\n",
    "        dists_X: pairwise-distances matrix of X\n",
    "        perp: the desired perplexity level (single number)\n",
    "\n",
    "    Return:\n",
    "        (n, n) matrix containing p_{j|i}'s\n",
    "    \"\"\"\n",
    "    betas = get_beta(perp, jax.lax.stop_gradient(dists_X))\n",
    "    \n",
    "    p_j_given_i = []\n",
    "    for i, j in enumerate(betas):\n",
    "        p_j_given_i.append(logSoftmax(-dists_X[i] / (j), i))\n",
    "    return np.array(p_j_given_i)\n",
    "    \n",
    "\n",
    "def x2p(dists_X, perp):\n",
    "    \"\"\"\n",
    "    Compute the joint probabilities p_ij's\n",
    "    \n",
    "    Params\n",
    "        dists_X: pairwise-distances matrix of X\n",
    "        perp: the desired perplexity level (single number)\n",
    "\n",
    "    Return:\n",
    "        (n, n) matrix P containing p_ij's\n",
    "    \"\"\"\n",
    "    n = len(dists_X)\n",
    "    p_j_given_i = get_p_j_given_i(dists_X, perp)\n",
    "    p_i_given_j = p_j_given_i.T\n",
    "    P = (p_j_given_i + p_i_given_j) / (2*n)\n",
    "    #P = (p_j_given_i + p_i_given_j) / (np.sum(p_i_given_j))\n",
    "    return P\n",
    "\n",
    "def y2q(dists_Y):    \n",
    "    \"\"\"\n",
    "    Compute low-dimensional affinities q_ij\n",
    "    \n",
    "    Params\n",
    "        dists_Y: (n, n) matrix containing all pairwise distances of elements of Y\n",
    "\n",
    "    Return:\n",
    "        (n, n) matrix Q containing q_ij's\n",
    "    \"\"\"\n",
    "    Q = 1./(1. + dists_Y)\n",
    "    Q = Q.at[np.diag_indices_from(Q)].set(0.)\n",
    "    Q /= Q.sum()\n",
    "    \n",
    "    return Q"
   ]
  },
  {
   "cell_type": "code",
   "execution_count": 14,
   "metadata": {},
   "outputs": [],
   "source": [
    "def KL_divergence(X_flat, Y_flat, X_unflattener, Y_unflattener):\n",
    "    \"\"\"\n",
    "    (R^nxp x R^nxp)--> R\n",
    "    \"\"\"\n",
    "    X = X_unflattener(X_flat)\n",
    "    Y = Y_unflattener(Y_flat)\n",
    "    learning_rate, perplexity = (200, 30)\n",
    "    dists_X = get_dists(X)\n",
    "    P = x2p(dists_X, perplexity)\n",
    "    P = np.maximum(P, 1e-12)\n",
    "    #print('P', P)\n",
    "    dists_Y = get_dists(Y)\n",
    "    Q = y2q(dists_Y)\n",
    "    Q = np.maximum(Q, 1e-12)\n",
    "    #print('Q', Q)\n",
    "    return np.sum(P * (np.log(P+1e-10) - np.log(Q+1e-10)))"
   ]
  },
  {
   "cell_type": "code",
   "execution_count": 15,
   "metadata": {},
   "outputs": [
    {
     "name": "stdout",
     "output_type": "stream",
     "text": [
      "===> Finding 49 nearest neighbors using Annoy approximate search using euclidean distance...\n",
      "   --> Time elapsed: 0.00 seconds\n",
      "===> Calculating affinity matrix...\n",
      "   --> Time elapsed: 0.00 seconds\n",
      "===> Running optimization with exaggeration=12.00, lr=200.00 for 250 iterations...\n",
      "Iteration   50, KL divergence 0.8816, 50 iterations in 0.3250 sec\n",
      "Iteration  100, KL divergence 0.9012, 50 iterations in 0.2848 sec\n",
      "Iteration  150, KL divergence 0.9352, 50 iterations in 0.3087 sec\n",
      "Iteration  200, KL divergence 0.9408, 50 iterations in 0.3382 sec\n",
      "Iteration  250, KL divergence 0.9399, 50 iterations in 0.3147 sec\n",
      "   --> Time elapsed: 1.57 seconds\n",
      "===> Running optimization with exaggeration=1.00, lr=200.00 for 750 iterations...\n",
      "Iteration   50, KL divergence 0.1367, 50 iterations in 0.3044 sec\n",
      "Iteration  100, KL divergence 0.1351, 50 iterations in 0.2899 sec\n",
      "Iteration  150, KL divergence 0.1351, 50 iterations in 0.2595 sec\n",
      "Iteration  200, KL divergence 0.1351, 50 iterations in 0.2579 sec\n",
      "Iteration  250, KL divergence 0.1351, 50 iterations in 0.2557 sec\n",
      "Iteration  300, KL divergence 0.1351, 50 iterations in 0.2614 sec\n",
      "Iteration  350, KL divergence 0.1351, 50 iterations in 0.2597 sec\n",
      "Iteration  400, KL divergence 0.1351, 50 iterations in 0.2662 sec\n",
      "Iteration  450, KL divergence 0.1351, 50 iterations in 0.2752 sec\n",
      "Iteration  500, KL divergence 0.1351, 50 iterations in 0.2572 sec\n",
      "Iteration  550, KL divergence 0.1351, 50 iterations in 0.2761 sec\n",
      "Iteration  600, KL divergence 0.1351, 50 iterations in 0.2735 sec\n",
      "Iteration  650, KL divergence 0.1351, 50 iterations in 0.2727 sec\n",
      "Iteration  700, KL divergence 0.1351, 50 iterations in 0.2664 sec\n",
      "Iteration  750, KL divergence 0.1351, 50 iterations in 0.2820 sec\n",
      "   --> Time elapsed: 4.06 seconds\n"
     ]
    }
   ],
   "source": [
    "X, y = load_data(50)\n",
    "key = random.PRNGKey(41)\n",
    "#X = onp.array(random.normal(key, shape=(50, 50)))\n",
    "y_guess = random.normal(key, shape=(X.shape[0], 2))\n",
    "#Y_star = TSNE(n_components=2, learning_rate=200, init=onp.array(y_guess), perplexity=30).fit_transform(X)\n",
    "Y_star = tsne_fwd(X, y_guess)\n",
    "\n",
    "X_flat, X_unflattener = flatten_util.ravel_pytree(X)   # row-wise\n",
    "Y_flat, Y_unflattener = flatten_util.ravel_pytree(Y_star) "
   ]
  },
  {
   "cell_type": "code",
   "execution_count": 16,
   "metadata": {},
   "outputs": [
    {
     "data": {
      "text/plain": [
       "Array(0.11029205, dtype=float32)"
      ]
     },
     "execution_count": 16,
     "metadata": {},
     "output_type": "execute_result"
    }
   ],
   "source": [
    "KL_divergence(X_flat, Y_flat, X_unflattener, Y_unflattener)"
   ]
  },
  {
   "cell_type": "code",
   "execution_count": 17,
   "metadata": {},
   "outputs": [
    {
     "name": "stdout",
     "output_type": "stream",
     "text": [
      "J [[-4.24462851e-05 -1.48027670e-03  2.48451077e-04 ... -3.42164185e-07\n",
      "   1.14006536e-06  1.27201304e-07]\n",
      " [ 1.50410214e-03  3.26412875e-04 -2.95569131e-04 ... -4.40377335e-09\n",
      "  -4.28170461e-06 -7.44806982e-07]\n",
      " [ 4.69437146e-05  1.37148636e-05 -6.14862256e-06 ... -1.73947137e-05\n",
      "   2.04412754e-06  5.77533910e-06]\n",
      " ...\n",
      " [-2.89589043e-05 -1.28471538e-05 -2.56100566e-06 ... -3.74666547e-06\n",
      "  -5.38957647e-06  1.02705144e-06]\n",
      " [-1.48657155e-05  2.08864549e-07  1.74894922e-07 ... -4.92571962e-05\n",
      "   1.61192351e-04  2.48848664e-05]\n",
      " [ 1.43041452e-05  6.70935242e-06 -6.37701305e-07 ...  5.81944987e-05\n",
      "  -7.65324367e-05  5.43743517e-05]]\n"
     ]
    }
   ],
   "source": [
    "J_X_Y = jacfwd(jacfwd(KL_divergence, argnums=1), argnums=0)(X_flat, Y_flat, X_unflattener, Y_unflattener)\n",
    "print('J', J_X_Y)"
   ]
  },
  {
   "cell_type": "code",
   "execution_count": 18,
   "metadata": {},
   "outputs": [
    {
     "data": {
      "text/plain": [
       "<matplotlib.image.AxesImage at 0x13ce1d610>"
      ]
     },
     "execution_count": 18,
     "metadata": {},
     "output_type": "execute_result"
    },
    {
     "data": {
      "image/png": "[encoded data removed]",
      "text/plain": [
       "<Figure size 960x720 with 1 Axes>"
      ]
     },
     "metadata": {},
     "output_type": "display_data"
    }
   ],
   "source": [
    "plt.imshow(J_X_Y[:, 0:200])"
   ]
  },
  {
   "cell_type": "code",
   "execution_count": 14,
   "metadata": {},
   "outputs": [
    {
     "name": "stdout",
     "output_type": "stream",
     "text": [
      "P [[1.0000000e-12 5.3637329e-04 3.3646161e-04 ... 4.5052939e-04\n",
      "  1.8643361e-04 2.8939545e-04]\n",
      " [5.3637329e-04 1.0000000e-12 2.6181966e-04 ... 2.0451154e-04\n",
      "  2.0844104e-04 2.8318496e-04]\n",
      " [3.3646161e-04 2.6181966e-04 1.0000000e-12 ... 2.6609431e-04\n",
      "  2.0896769e-04 2.5835019e-04]\n",
      " ...\n",
      " [4.5052939e-04 2.0451154e-04 2.6609431e-04 ... 1.0000000e-12\n",
      "  1.1951862e-04 1.3231787e-04]\n",
      " [1.8643361e-04 2.0844104e-04 2.0896769e-04 ... 1.1951862e-04\n",
      "  1.0000000e-12 8.5519301e-04]\n",
      " [2.8939545e-04 2.8318496e-04 2.5835019e-04 ... 1.3231787e-04\n",
      "  8.5519301e-04 1.0000000e-12]]\n",
      "Q Traced<ConcreteArray([[9.99999996e-13 3.82294267e-04 3.18798120e-04 ... 5.11404534e-04\n",
      "  1.95884189e-04 3.25079338e-04]\n",
      " [3.82294267e-04 9.99999996e-13 1.31562483e-04 ... 3.78778408e-04\n",
      "  8.98419021e-05 1.34447371e-04]\n",
      " [3.18798120e-04 1.31562483e-04 9.99999996e-13 ... 4.32623434e-04\n",
      "  9.86198720e-05 1.20241464e-04]\n",
      " ...\n",
      " [5.11404534e-04 3.78778408e-04 4.32623434e-04 ... 9.99999996e-13\n",
      "  8.69829091e-05 1.20011275e-04]\n",
      " [1.95884189e-04 8.98419021e-05 9.86198720e-05 ... 8.69829091e-05\n",
      "  9.99999996e-13 1.09071156e-03]\n",
      " [3.25079338e-04 1.34447371e-04 1.20241464e-04 ... 1.20011275e-04\n",
      "  1.09071156e-03 9.99999996e-13]], dtype=float32)>with<JVPTrace(level=4/0)> with\n",
      "  primal = Traced<ConcreteArray([[9.99999996e-13 3.82294267e-04 3.18798120e-04 ... 5.11404534e-04\n",
      "  1.95884189e-04 3.25079338e-04]\n",
      " [3.82294267e-04 9.99999996e-13 1.31562483e-04 ... 3.78778408e-04\n",
      "  8.98419021e-05 1.34447371e-04]\n",
      " [3.18798120e-04 1.31562483e-04 9.99999996e-13 ... 4.32623434e-04\n",
      "  9.86198720e-05 1.20241464e-04]\n",
      " ...\n",
      " [5.11404534e-04 3.78778408e-04 4.32623434e-04 ... 9.99999996e-13\n",
      "  8.69829091e-05 1.20011275e-04]\n",
      " [1.95884189e-04 8.98419021e-05 9.86198720e-05 ... 8.69829091e-05\n",
      "  9.99999996e-13 1.09071156e-03]\n",
      " [3.25079338e-04 1.34447371e-04 1.20241464e-04 ... 1.20011275e-04\n",
      "  1.09071156e-03 9.99999996e-13]], dtype=float32)>with<JVPTrace(level=2/0)> with\n",
      "    primal = Array([[9.99999996e-13, 3.82294267e-04, 3.18798120e-04, ...,\n",
      "        5.11404534e-04, 1.95884189e-04, 3.25079338e-04],\n",
      "       [3.82294267e-04, 9.99999996e-13, 1.31562483e-04, ...,\n",
      "        3.78778408e-04, 8.98419021e-05, 1.34447371e-04],\n",
      "       [3.18798120e-04, 1.31562483e-04, 9.99999996e-13, ...,\n",
      "        4.32623434e-04, 9.86198720e-05, 1.20241464e-04],\n",
      "       ...,\n",
      "       [5.11404534e-04, 3.78778408e-04, 4.32623434e-04, ...,\n",
      "        9.99999996e-13, 8.69829091e-05, 1.20011275e-04],\n",
      "       [1.95884189e-04, 8.98419021e-05, 9.86198720e-05, ...,\n",
      "        8.69829091e-05, 9.99999996e-13, 1.09071156e-03],\n",
      "       [3.25079338e-04, 1.34447371e-04, 1.20241464e-04, ...,\n",
      "        1.20011275e-04, 1.09071156e-03, 9.99999996e-13]], dtype=float32)\n",
      "    tangent = Traced<ShapedArray(float32[50,50])>with<BatchTrace(level=1/0)> with\n",
      "      val = Array([[[ 0.0000000e+00, -2.1771275e-04, -5.2821764e-05, ...,\n",
      "         -4.1438904e-04,  1.1869108e-04,  2.3476096e-04],\n",
      "        [-2.1771275e-04,  0.0000000e+00,  8.5497618e-07, ...,\n",
      "          2.4615415e-06,  5.8384944e-07,  8.7372399e-07],\n",
      "        [-5.2821764e-05,  8.5497618e-07,  0.0000000e+00, ...,\n",
      "          2.8114605e-06,  6.4089426e-07,  7.8140505e-07],\n",
      "        ...,\n",
      "        [-4.1438904e-04,  2.4615415e-06,  2.8114605e-06, ...,\n",
      "          0.0000000e+00,  5.6526994e-07,  7.7990916e-07],\n",
      "        [ 1.1869108e-04,  5.8384944e-07,  6.4089426e-07, ...,\n",
      "          5.6526994e-07,  0.0000000e+00,  7.0881333e-06],\n",
      "        [ 2.3476096e-04,  8.7372399e-07,  7.8140505e-07, ...,\n",
      "          7.7990916e-07,  7.0881333e-06,  0.0000000e+00]],\n",
      "\n",
      "       [[ 0.0000000e+00, -2.1098182e-04,  2.2999737e-04, ...,\n",
      "          1.7052467e-04, -1.4587503e-05, -7.1530958e-05],\n",
      "        [-2.1098182e-04,  0.0000000e+00, -1.2446303e-07, ...,\n",
      "         -3.5833853e-07, -8.4993800e-08, -1.2719224e-07],\n",
      "        [ 2.2999737e-04, -1.2446303e-07,  0.0000000e+00, ...,\n",
      "         -4.0927796e-07, -9.3298084e-08, -1.1375291e-07],\n",
      "        ...,\n",
      "        [ 1.7052467e-04, -3.5833853e-07, -4.0927796e-07, ...,\n",
      "          0.0000000e+00, -8.2289084e-08, -1.1353515e-07],\n",
      "        [-1.4587503e-05, -8.4993800e-08, -9.3298084e-08, ...,\n",
      "         -8.2289084e-08,  0.0000000e+00, -1.0318539e-06],\n",
      "        [-7.1530958e-05, -1.2719224e-07, -1.1375291e-07, ...,\n",
      "         -1.1353515e-07, -1.0318539e-06,  0.0000000e+00]],\n",
      "\n",
      "       [[ 0.0000000e+00,  2.1689106e-04, -2.7569595e-06, ...,\n",
      "         -4.4226153e-06, -1.6940023e-06, -2.8112793e-06],\n",
      "        [ 2.1689106e-04,  0.0000000e+00,  1.5591853e-05, ...,\n",
      "         -1.6259477e-05,  3.6084017e-05,  6.5866654e-05],\n",
      "        [-2.7569595e-06,  1.5591853e-05,  0.0000000e+00, ...,\n",
      "         -3.7413183e-06, -8.5286251e-07, -1.0398456e-06],\n",
      "        ...,\n",
      "        [-4.4226153e-06, -1.6259477e-05, -3.7413183e-06, ...,\n",
      "          0.0000000e+00, -7.5222630e-07, -1.0378550e-06],\n",
      "        [-1.6940023e-06,  3.6084017e-05, -8.5286251e-07, ...,\n",
      "         -7.5222630e-07,  0.0000000e+00, -9.4324505e-06],\n",
      "        [-2.8112793e-06,  6.5866654e-05, -1.0398456e-06, ...,\n",
      "         -1.0378550e-06, -9.4324505e-06,  0.0000000e+00]],\n",
      "\n",
      "       ...,\n",
      "\n",
      "       [[ 0.0000000e+00, -2.0337854e-06, -1.6959892e-06, ...,\n",
      "         -2.7206452e-06,  1.3360095e-05, -1.7294050e-06],\n",
      "        [-2.0337854e-06,  0.0000000e+00, -6.9990551e-07, ...,\n",
      "         -2.0150812e-06, -9.0805488e-06, -7.1525295e-07],\n",
      "        [-1.6959892e-06, -6.9990551e-07,  0.0000000e+00, ...,\n",
      "         -2.3015339e-06,  2.5164765e-05, -6.3967826e-07],\n",
      "        ...,\n",
      "        [-2.7206452e-06, -2.0150812e-06, -2.3015339e-06, ...,\n",
      "          0.0000000e+00,  7.3242827e-06, -6.3845368e-07],\n",
      "        [ 1.3360095e-05, -9.0805488e-06,  2.5164765e-05, ...,\n",
      "          7.3242827e-06,  0.0000000e+00, -3.6106975e-04],\n",
      "        [-1.7294050e-06, -7.1525295e-07, -6.3967826e-07, ...,\n",
      "         -6.3845368e-07, -3.6106975e-04,  0.0000000e+00]],\n",
      "\n",
      "       [[ 0.0000000e+00,  3.2191238e-06,  2.6844521e-06, ...,\n",
      "          4.3063019e-06,  1.6494504e-06, -2.2991103e-04],\n",
      "        [ 3.2191238e-06,  0.0000000e+00,  1.1078270e-06, ...,\n",
      "          3.1895183e-06,  7.5651724e-07, -6.5897235e-05],\n",
      "        [ 2.6844521e-06,  1.1078270e-06,  0.0000000e+00, ...,\n",
      "          3.6429226e-06,  8.3043244e-07, -3.8626047e-05],\n",
      "        ...,\n",
      "        [ 4.3063019e-06,  3.1895183e-06,  3.6429226e-06, ...,\n",
      "          0.0000000e+00,  7.3244291e-07, -5.3700605e-05],\n",
      "        [ 1.6494504e-06,  7.5651724e-07,  8.3043244e-07, ...,\n",
      "          7.3244291e-07,  0.0000000e+00,  1.0306089e-03],\n",
      "        [-2.2991103e-04, -6.5897235e-05, -3.8626047e-05, ...,\n",
      "         -5.3700605e-05,  1.0306089e-03,  0.0000000e+00]],\n",
      "\n",
      "       [[ 0.0000000e+00, -3.1091381e-06, -2.5927341e-06, ...,\n",
      "         -4.1591716e-06, -1.5930948e-06,  6.8579597e-05],\n",
      "        [-3.1091381e-06,  0.0000000e+00, -1.0699766e-06, ...,\n",
      "         -3.0805443e-06, -7.3066980e-07, -1.4960671e-05],\n",
      "        [-2.5927341e-06, -1.0699766e-06,  0.0000000e+00, ...,\n",
      "         -3.5184571e-06, -8.0205962e-07,  4.1528325e-05],\n",
      "        ...,\n",
      "        [-4.1591716e-06, -3.0805443e-06, -3.5184571e-06, ...,\n",
      "          0.0000000e+00, -7.0741805e-07,  1.8148470e-05],\n",
      "        [-1.5930948e-06, -7.3066980e-07, -8.0205962e-07, ...,\n",
      "         -7.0741805e-07,  0.0000000e+00,  3.4639664e-04],\n",
      "        [ 6.8579597e-05, -1.4960671e-05,  4.1528325e-05, ...,\n",
      "          1.8148470e-05,  3.4639664e-04,  0.0000000e+00]]], dtype=float32)\n",
      "      batch_dim = 0\n",
      "  tangent = Traced<ShapedArray(float32[50,50])>with<JaxprTrace(level=3/0)> with\n",
      "    pval = (ShapedArray(float32[50,50]), None)\n",
      "    recipe = JaxprEqnRecipe(eqn_id=<object object at 0x7f63a077a890>, in_tracers=(Traced<ShapedArray(float32[50,50]):JaxprTrace(level=3/0)>, Traced<ConcreteArray([[0. 1. 1. ... 1. 1. 1.]\n",
      " [1. 0. 1. ... 1. 1. 1.]\n",
      " [1. 1. 0. ... 1. 1. 1.]\n",
      " ...\n",
      " [1. 1. 1. ... 0. 1. 1.]\n",
      " [1. 1. 1. ... 1. 0. 1.]\n",
      " [1. 1. 1. ... 1. 1. 0.]], dtype=float32):JaxprTrace(level=3/0)>), out_tracer_refs=[<weakref at 0x7f63a0606b60; to 'JaxprTracer' at 0x7f63a0606b10>], out_avals=[ShapedArray(float32[50,50])], primitive=pjit, params={'jaxpr': { lambda ; a:f32[50,50] b:f32[50,50]. let c:f32[50,50] = mul a b in (c,) }, 'in_shardings': (UnspecifiedValue, UnspecifiedValue), 'out_shardings': (UnspecifiedValue,), 'resource_env': None, 'donated_invars': (False, False), 'name': '<lambda>', 'keep_unused': False, 'inline': True}, effects=set(), source_info=SourceInfo(traceback=<jaxlib.xla_extension.Traceback object at 0x7f63a0623d70>, name_stack=NameStack(stack=(Transform(name='vmap'), Transform(name='jvp'), Transform(name='jvp')))))\n"
     ]
    }
   ],
   "source": [
    "H = jax.hessian(KL_divergence, argnums=1)(X_flat, Y_flat, X_unflattener, Y_unflattener)"
   ]
  },
  {
   "cell_type": "code",
   "execution_count": 19,
   "metadata": {},
   "outputs": [],
   "source": [
    "from simplified_tsne_jax import * \n",
    "def KL_divergence(X_flat, Y_flat, X_unflattener, Y_unflattener):\n",
    "    \"\"\"\n",
    "    (R^nxp x R^nxp)--> R\n",
    "    \"\"\"\n",
    "    X = X_unflattener(X_flat)\n",
    "    Y = Y_unflattener(Y_flat)\n",
    "    learning_rate, perplexity = (200, 30.0)\n",
    "    P = x2p(X, tol=1e-5, perplexity=perplexity)\n",
    "    P = (P + np.transpose(P))\n",
    "    P = P / np.sum(P)      # Why don't we devide by 2N as described everywhere?\n",
    "    P = np.maximum(P, 1e-12)\n",
    "    #print('P', P)\n",
    "    Q, _ = y2q(Y)\n",
    "    #print('Q', Q)\n",
    "    return np.sum(P * (np.log(P+1e-10) - np.log(Q+1e-10)))"
   ]
  },
  {
   "cell_type": "code",
   "execution_count": 20,
   "metadata": {},
   "outputs": [
    {
     "name": "stdout",
     "output_type": "stream",
     "text": [
      "Computing pairwise distances...\n",
      "Starting binary search\n",
      "Entered binary search function\n"
     ]
    },
    {
     "data": {
      "text/plain": [
       "Array(0.13507721, dtype=float32)"
      ]
     },
     "execution_count": 20,
     "metadata": {},
     "output_type": "execute_result"
    }
   ],
   "source": [
    "KL_divergence(X_flat, Y_flat, X_unflattener, Y_unflattener)"
   ]
  },
  {
   "cell_type": "code",
   "execution_count": 21,
   "metadata": {},
   "outputs": [
    {
     "name": "stdout",
     "output_type": "stream",
     "text": [
      "Computing pairwise distances...\n",
      "Starting binary search\n",
      "Entered binary search function\n",
      "[[ 6.14068995e-05 -1.60772807e-03  1.61214732e-04 ... -2.61638661e-07\n",
      "   1.38574489e-06  3.80781842e-07]\n",
      " [ 1.96551671e-03  3.55698838e-04 -4.16464900e-04 ... -5.58400188e-07\n",
      "  -5.54301641e-06 -2.43306317e-06]\n",
      " [ 4.72459615e-05  1.10221990e-05 -4.67542168e-06 ... -2.57087886e-05\n",
      "   7.92594710e-06  1.25579145e-05]\n",
      " ...\n",
      " [-3.68587462e-05 -1.35654655e-05 -2.98978034e-06 ... -3.14628028e-06\n",
      "  -6.87834654e-06  5.14021963e-08]\n",
      " [-2.38057437e-05  3.72923409e-07 -1.16308183e-06 ... -8.23647497e-05\n",
      "   3.42344050e-04  9.08632792e-05]\n",
      " [ 1.15619550e-05  5.75941476e-06  4.26505721e-07 ...  6.08842602e-05\n",
      "  -7.72744752e-05  6.87854626e-05]]\n"
     ]
    }
   ],
   "source": [
    "#f = lambda X, Y: KL_divergence(X, Y, X_unflattener, Y_unflattener)\n",
    "J_X_Y = jacfwd(jacfwd(KL_divergence, argnums=1), argnums=0)(X_flat, Y_flat, X_unflattener, Y_unflattener)\n",
    "print(J_X_Y)"
   ]
  },
  {
   "cell_type": "code",
   "execution_count": 22,
   "metadata": {},
   "outputs": [
    {
     "data": {
      "text/plain": [
       "<matplotlib.image.AxesImage at 0x13cfa6310>"
      ]
     },
     "execution_count": 22,
     "metadata": {},
     "output_type": "execute_result"
    },
    {
     "data": {
      "image/png": "[encoded data removed]",
      "text/plain": [
       "<Figure size 960x720 with 1 Axes>"
      ]
     },
     "metadata": {},
     "output_type": "display_data"
    }
   ],
   "source": [
    "plt.imshow(J_X_Y[:, 0:200])"
   ]
  },
  {
   "cell_type": "code",
   "execution_count": 11,
   "metadata": {},
   "outputs": [
    {
     "name": "stdout",
     "output_type": "stream",
     "text": [
      "Computing pairwise distances...\n",
      "Starting binary search\n",
      "Entered binary search function\n",
      "[0. 0. 0. ... 0. 0. 0.]\n"
     ]
    }
   ],
   "source": [
    "print(jacfwd(KL_divergence, argnums=0)(X_flat, Y_flat, X_unflattener, Y_unflattener))"
   ]
  },
  {
   "cell_type": "code",
   "execution_count": null,
   "metadata": {},
   "outputs": [],
   "source": []
  }
 ],
 "metadata": {
  "kernelspec": {
   "display_name": "Python 3",
   "language": "python",
   "name": "python3"
  },
  "language_info": {
   "codemirror_mode": {
    "name": "ipython",
    "version": 3
   },
   "file_extension": ".py",
   "mimetype": "text/x-python",
   "name": "python",
   "nbconvert_exporter": "python",
   "pygments_lexer": "ipython3",
   "version": "3.11.8"
  }
 },
 "nbformat": 4,
 "nbformat_minor": 2
}
