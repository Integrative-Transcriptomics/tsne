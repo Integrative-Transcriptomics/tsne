{
 "cells": [
  {
   "cell_type": "code",
   "execution_count": 47,
   "id": "04ab9a84-4602-477e-9d0d-a5a7e1171907",
   "metadata": {},
   "outputs": [],
   "source": [
    "import numpy as np\n",
    "from sklearn.manifold import TSNE\n",
    "from sklearn.datasets import make_blobs\n",
    "import matplotlib.pyplot as plt"
   ]
  },
  {
   "cell_type": "code",
   "execution_count": 39,
   "id": "88c353b2-b432-4504-8f4e-c26880b5ef15",
   "metadata": {},
   "outputs": [],
   "source": [
    "X, y = make_blobs(n_samples = 100, n_features=4, centers = np.array([[10, 10, 7, 4], [5, 6, 10, -5], [10, 5, 1, 7]]))"
   ]
  },
  {
   "cell_type": "code",
   "execution_count": 53,
   "id": "dcbd4cea-c382-474d-90d5-ed79c10b49d7",
   "metadata": {},
   "outputs": [],
   "source": [
    "tsne = TSNE(init=np.array([[5, 10] for i in range(100)], dtype=np.float64))\n",
    "init = np.random.random((100, 2))+10\n",
    "tsne = TSNE(init=init)"
   ]
  },
  {
   "cell_type": "code",
   "execution_count": 54,
   "id": "87bf62d8-e824-4fc0-b835-f7295b81867e",
   "metadata": {},
   "outputs": [
    {
     "name": "stderr",
     "output_type": "stream",
     "text": [
      "/home/zabel/anaconda3/envs/jax_update/lib/python3.8/site-packages/sklearn/manifold/_t_sne.py:810: FutureWarning: The default learning rate in TSNE will change from 200.0 to 'auto' in 1.2.\n",
      "  warnings.warn(\n"
     ]
    }
   ],
   "source": [
    "X_t = tsne.fit_transform(X)"
   ]
  },
  {
   "cell_type": "code",
   "execution_count": 58,
   "id": "dd457696-5ad3-4307-8d17-9ccba17c01cc",
   "metadata": {},
   "outputs": [
    {
     "data": {
      "text/plain": [
       "<matplotlib.collections.PathCollection at 0x7fc478a843d0>"
      ]
     },
     "execution_count": 58,
     "metadata": {},
     "output_type": "execute_result"
    },
    {
     "data": {
      "image/png": "[encoded data removed]",
      "text/plain": [
       "<Figure size 640x480 with 1 Axes>"
      ]
     },
     "metadata": {},
     "output_type": "display_data"
    }
   ],
   "source": [
    "plt.scatter(X_t[:, 0], X_t[:, 1])\n",
    "plt.scatter(np.mean(X_t[:, 0]), np.mean(X_t[:, 1]))\n",
    "plt.scatter(np.mean(init[:, 0]), np.mean(init[:, 1]))"
   ]
  },
  {
   "cell_type": "code",
   "execution_count": null,
   "id": "43cf35ca-159e-42c2-97ca-18baa2f0774d",
   "metadata": {},
   "outputs": [],
   "source": []
  }
 ],
 "metadata": {
  "kernelspec": {
   "display_name": "Python 3 (ipykernel)",
   "language": "python",
   "name": "python3"
  },
  "language_info": {
   "codemirror_mode": {
    "name": "ipython",
    "version": 3
   },
   "file_extension": ".py",
   "mimetype": "text/x-python",
   "name": "python",
   "nbconvert_exporter": "python",
   "pygments_lexer": "ipython3",
   "version": "3.8.12"
  }
 },
 "nbformat": 4,
 "nbformat_minor": 5
}
