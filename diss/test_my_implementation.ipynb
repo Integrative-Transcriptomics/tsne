{
 "cells": [
  {
   "cell_type": "code",
   "execution_count": 3,
   "metadata": {},
   "outputs": [],
   "source": [
    "import jax.numpy as np\n",
    "import numpy as onp\n",
    "from functools import partial\n",
    "from jax import vmap\n",
    "from jax.lax import scan\n",
    "from jax.lax import cond\n",
    "from jax import random\n",
    "from jax import jit\n",
    "from jax import jacrev\n",
    "from jax.lax import stop_gradient\n",
    "import matplotlib.pylab as plt\n",
    "import matplotlib as mpl\n",
    "from sklearn import manifold, datasets\n",
    "import seaborn as sns\n",
    "import jax\n",
    "\n",
    "#from jax.config import config\n",
    "#config.update(\"jax_debug_nans\", True)\n",
    "\n",
    "import jax.numpy as np\n",
    "from utils import MidpointNormalize, load_data\n",
    "from jax import random, flatten_util, vjp, jvp, custom_vjp, jacfwd, jacrev, vmap, grad\n",
    "import matplotlib.pylab as plt\n",
    "import seaborn as sns\n",
    "from tsne_jax import *\n",
    "import time"
   ]
  },
  {
   "cell_type": "code",
   "execution_count": 4,
   "metadata": {},
   "outputs": [
    {
     "name": "stdout",
     "output_type": "stream",
     "text": [
      "===> Finding 49 nearest neighbors using Annoy approximate search using euclidean distance...\n",
      "   --> Time elapsed: 0.02 seconds\n",
      "===> Calculating affinity matrix...\n",
      "   --> Time elapsed: 0.00 seconds\n",
      "===> Running optimization with exaggeration=12.00, lr=200.00 for 250 iterations...\n",
      "Iteration   50, KL divergence 1.0085, 50 iterations in 1.0047 sec\n",
      "Iteration  100, KL divergence 0.9229, 50 iterations in 0.8066 sec\n",
      "Iteration  150, KL divergence 1.0109, 50 iterations in 0.6630 sec\n",
      "Iteration  200, KL divergence 0.9358, 50 iterations in 0.5697 sec\n",
      "Iteration  250, KL divergence 0.9418, 50 iterations in 0.5853 sec\n",
      "   --> Time elapsed: 3.63 seconds\n",
      "===> Running optimization with exaggeration=1.00, lr=200.00 for 750 iterations...\n",
      "Iteration   50, KL divergence 0.0159, 50 iterations in 0.5840 sec\n",
      "Iteration  100, KL divergence 0.0156, 50 iterations in 0.5826 sec\n",
      "Iteration  150, KL divergence 0.0156, 50 iterations in 0.5724 sec\n",
      "Iteration  200, KL divergence 0.0156, 50 iterations in 0.5649 sec\n",
      "Iteration  250, KL divergence 0.0156, 50 iterations in 0.5655 sec\n",
      "Iteration  300, KL divergence 0.0156, 50 iterations in 0.6080 sec\n",
      "Iteration  350, KL divergence 0.0156, 50 iterations in 0.5665 sec\n",
      "Iteration  400, KL divergence 0.0156, 50 iterations in 0.5683 sec\n",
      "Iteration  450, KL divergence 0.0156, 50 iterations in 0.5648 sec\n",
      "Iteration  500, KL divergence 0.0156, 50 iterations in 0.5741 sec\n",
      "Iteration  550, KL divergence 0.0156, 50 iterations in 0.5650 sec\n",
      "Iteration  600, KL divergence 0.0156, 50 iterations in 0.5652 sec\n",
      "Iteration  650, KL divergence 0.0156, 50 iterations in 0.5659 sec\n",
      "Iteration  700, KL divergence 0.0156, 50 iterations in 0.5666 sec\n",
      "Iteration  750, KL divergence 0.0156, 50 iterations in 0.5647 sec\n",
      "   --> Time elapsed: 8.58 seconds\n"
     ]
    }
   ],
   "source": [
    "from sklearn.datasets import make_blobs, make_classification\n",
    "#X, y = load_data(40)\n",
    "X, y = make_blobs(n_samples=50, n_features=1000, centers=4, random_state=0, shuffle=False, cluster_std=[0.1, 3, 3, 3])\n",
    "#X, y = make_classification(n_classes=5, n_samples=50, n_features=1000, random_state=42)\n",
    "key = random.PRNGKey(41)\n",
    "#X = onp.array(random.normal(key, shape=(50, 50)))\n",
    "y_guess = random.normal(key, shape=(X.shape[0], 2))\n",
    "#Y_star = TSNE(n_components=2, learning_rate=200, init=onp.array(y_guess), perplexity=30).fit_transform(X)\n",
    "Y_star = tsne_fwd(X, y_guess)\n",
    "\n",
    "X_flat, X_unflattener = flatten_util.ravel_pytree(X)   # row-wise\n",
    "Y_flat, Y_unflattener = flatten_util.ravel_pytree(Y_star) "
   ]
  },
  {
   "cell_type": "code",
   "execution_count": 5,
   "metadata": {},
   "outputs": [
    {
     "name": "stdout",
     "output_type": "stream",
     "text": [
      "time:  3.091120719909668\n"
     ]
    }
   ],
   "source": [
    "from sklearn.datasets import make_spd_matrix\n",
    "D = make_spd_matrix(X.shape[1])\n",
    "N = make_spd_matrix(X.shape[0])\n",
    "\n",
    "f = partial(KL_divergence_dy, X_unflattener=X_unflattener, Y_unflattener=Y_unflattener)\n",
    "H = jax.jacrev(f, argnums=1)(X_flat, Y_flat)\n",
    "H_pinv = np.linalg.pinv(H + 1e-3*np.eye(len(H)), hermitian=True)\n",
    "\n",
    "f = partial(KL_divergence_dy, Y_flat=Y_flat, X_unflattener=X_unflattener, Y_unflattener=Y_unflattener)\n",
    "# jvp\n",
    "_, jvp_fun_lin = jax.linearize(f, X_flat)\n",
    "# vjp\n",
    "_, vjp_fun = vjp(f, X_flat)\n",
    "\n",
    "time_start = time.time()\n",
    "compute_cov_fun = lambda i: compute_cov_inner(vjp_fun=vjp_fun, jvp_fun_lin=jvp_fun_lin, \n",
    "                                        H_pinv_i=i, D=D, N=N, d=D.shape[0], n=N.shape[0], H_pinv=H_pinv)\n",
    "final_cov = vmap(compute_cov_fun)(H_pinv)\n",
    "time_end = time.time()\n",
    "print('time: ', time_end - time_start)"
   ]
  },
  {
   "cell_type": "code",
   "execution_count": 6,
   "metadata": {},
   "outputs": [
    {
     "name": "stdout",
     "output_type": "stream",
     "text": [
      "final covariance [[ 2.74002017e-03  1.07968328e-04  2.07742047e-03 ... -6.90031156e-04\n",
      "   1.48795341e-04 -3.85517254e-04]\n",
      " [ 1.07968015e-04  1.76459042e-04  1.84059056e-04 ... -7.54781213e-05\n",
      "   1.85547942e-05 -3.62923347e-05]\n",
      " [ 2.07741861e-03  1.84059216e-04  3.85456393e-03 ... -9.64119739e-04\n",
      "   1.97486457e-04 -4.85978817e-04]\n",
      " ...\n",
      " [-6.90031273e-04 -7.54781286e-05 -9.64119856e-04 ...  5.71631128e-04\n",
      "  -5.76060265e-05  2.08318888e-04]\n",
      " [ 1.48795123e-04  1.85547178e-05  1.97486268e-04 ... -5.76060702e-05\n",
      "   6.72587048e-05 -5.70331431e-05]\n",
      " [-3.85517458e-04 -3.62923274e-05 -4.85979253e-04 ...  2.08318947e-04\n",
      "  -5.70331395e-05  3.36228113e-04]]\n"
     ]
    }
   ],
   "source": [
    "#print('KL divergence: ', KL_divergence(X_flat, Y_flat, X_unflattener, Y_unflattener))\n",
    "#print('derivative of KL divergence w.r.t. Y: ', KL_divergence_dy(X_flat, Y_flat, X_unflattener, Y_unflattener))\n",
    "#print('Hessian', H)\n",
    "print('final covariance', final_cov)"
   ]
  },
  {
   "cell_type": "markdown",
   "metadata": {},
   "source": [
    "### Old "
   ]
  },
  {
   "cell_type": "code",
   "execution_count": 7,
   "metadata": {},
   "outputs": [
    {
     "name": "stdout",
     "output_type": "stream",
     "text": [
      "final cov:  [[ 2.73999921e-03  1.07969514e-04  2.07740581e-03 ... -6.90026558e-04\n",
      "   1.48795094e-04 -3.85514693e-04]\n",
      " [ 1.07969412e-04  1.76458590e-04  1.84059827e-04 ... -7.54785506e-05\n",
      "   1.85548652e-05 -3.62925384e-05]\n",
      " [ 2.07740511e-03  1.84059943e-04  3.85453692e-03 ... -9.64113628e-04\n",
      "   1.97485584e-04 -4.85975179e-04]\n",
      " ...\n",
      " [-6.90026616e-04 -7.54785578e-05 -9.64113569e-04 ...  5.71629032e-04\n",
      "  -5.76059938e-05  2.08317710e-04]\n",
      " [ 1.48794788e-04  1.85548797e-05  1.97485613e-04 ... -5.76059938e-05\n",
      "   6.72586539e-05 -5.70330158e-05]\n",
      " [-3.85514722e-04 -3.62925566e-05 -4.85975033e-04 ...  2.08317681e-04\n",
      "  -5.70330521e-05  3.36226862e-04]]\n"
     ]
    }
   ],
   "source": [
    "def compute_dy_dx(f, X, Y):\n",
    "  H = jax.hessian(f, argnums=1)(X_flat, Y_flat)\n",
    "  #print('Hessian: ', H)\n",
    "  H_pinv = np.linalg.pinv(H + 1e-3*np.eye(len(H)), hermitian=True)\n",
    "  J_X_Y = jacrev(jacfwd(f, argnums=1), argnums=0)(X_flat, Y_flat)\n",
    "  return np.dot(-H_pinv, J_X_Y)\n",
    "\n",
    "f = partial(KL_divergence, X_unflattener=X_unflattener, Y_unflattener=Y_unflattener)\n",
    "dy_dx = compute_dy_dx(f, X_flat, Y_flat)\n",
    "final = np.dot(np.dot(dy_dx, np.kron(D, N)), dy_dx.T)\n",
    "print('final cov: ', final)"
   ]
  },
  {
   "cell_type": "code",
   "execution_count": null,
   "metadata": {},
   "outputs": [],
   "source": []
  }
 ],
 "metadata": {
  "kernelspec": {
   "display_name": "Python 3",
   "language": "python",
   "name": "python3"
  },
  "language_info": {
   "codemirror_mode": {
    "name": "ipython",
    "version": 3
   },
   "file_extension": ".py",
   "mimetype": "text/x-python",
   "name": "python",
   "nbconvert_exporter": "python",
   "pygments_lexer": "ipython3",
   "version": "3.12.9"
  }
 },
 "nbformat": 4,
 "nbformat_minor": 2
}
