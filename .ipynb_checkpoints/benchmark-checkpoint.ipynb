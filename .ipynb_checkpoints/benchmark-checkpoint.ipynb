{
 "cells": [
  {
   "cell_type": "code",
   "execution_count": 1,
   "id": "6cc08026-ab6f-4b09-b54a-f4e80c62301b",
   "metadata": {},
   "outputs": [],
   "source": [
    "import benchmark"
   ]
  },
  {
   "cell_type": "code",
   "execution_count": 2,
   "id": "e0d1f668-c05c-48e2-a7a5-2184a152da31",
   "metadata": {},
   "outputs": [],
   "source": [
    "n_samples = [50]"
   ]
  },
  {
   "cell_type": "code",
   "execution_count": 2,
   "id": "b7fb3de9-7daa-42b4-9af8-11ab8c60b143",
   "metadata": {},
   "outputs": [
    {
     "name": "stdout",
     "output_type": "stream",
     "text": [
      "--------------------------------------------------------------------------------\n",
      "Random state 42\n",
      "--------------------------------------------------------------------------------\n",
      "[t-SNE] Computing 49 nearest neighbors...\n",
      "[t-SNE] Indexed 50 samples in 0.000s...\n",
      "[t-SNE] Computed neighbors for 50 samples in 0.001s...\n",
      "[t-SNE] Computed conditional probabilities for sample 50 / 50\n",
      "[t-SNE] Mean sigma: 1110.491289\n",
      "[t-SNE] KL divergence after 250 iterations with early exaggeration: 50.242226\n",
      "[t-SNE] KL divergence after 1000 iterations: 0.532252\n",
      "scikit-learn t-SNE: 0.2702038288116455\n"
     ]
    }
   ],
   "source": [
    "sklearnBH = benchmark.sklearnBarnesHut()\n",
    "sklearnBH.run(n_samples=50, random_state=42)"
   ]
  },
  {
   "cell_type": "code",
   "execution_count": 4,
   "id": "7e87d8e3-3c50-41fa-b5e3-f5f815f9059a",
   "metadata": {},
   "outputs": [
    {
     "name": "stdout",
     "output_type": "stream",
     "text": [
      "--------------------------------------------------------------------------------\n",
      "Random state 42\n",
      "--------------------------------------------------------------------------------\n",
      "[t-SNE] Computing pairwise distances...\n",
      "[t-SNE] Computed conditional probabilities for sample 50 / 50\n",
      "[t-SNE] Mean sigma: 1140.085233\n",
      "[t-SNE] KL divergence after 250 iterations with early exaggeration: 49.116611\n",
      "[t-SNE] KL divergence after 1000 iterations: 0.318463\n",
      "scikit-learn t-SNE: 0.4174039363861084\n"
     ]
    }
   ],
   "source": [
    "sklearnVanilla = benchmark.sklearnVanilla()\n",
    "sklearnVanilla.run(n_samples=50, random_state=42)"
   ]
  },
  {
   "cell_type": "code",
   "execution_count": 5,
   "id": "54f6ffab-961c-46b6-8980-36a5330d5b51",
   "metadata": {},
   "outputs": [
    {
     "name": "stdout",
     "output_type": "stream",
     "text": [
      "--------------------------------------------------------------------------------\n",
      "Random state 42\n",
      "--------------------------------------------------------------------------------\n",
      "===> Finding 49 nearest neighbors using Annoy approximate search using euclidean distance...\n",
      "   --> Time elapsed: 0.02 seconds\n",
      "===> Calculating affinity matrix...\n",
      "   --> Time elapsed: 0.00 seconds\n",
      "openTSNE: NN search 0.031764984130859375\n",
      "===> Running optimization with exaggeration=12.00, lr=200.00 for 250 iterations...\n",
      "Iteration   50, KL divergence 0.9361, 50 iterations in 0.5550 sec\n",
      "Iteration  100, KL divergence 1.0082, 50 iterations in 0.5524 sec\n",
      "Iteration  150, KL divergence 0.9421, 50 iterations in 0.5493 sec\n",
      "Iteration  200, KL divergence 0.9243, 50 iterations in 0.5494 sec\n",
      "Iteration  250, KL divergence 0.9588, 50 iterations in 0.5520 sec\n",
      "   --> Time elapsed: 2.76 seconds\n",
      "===> Running optimization with exaggeration=1.00, lr=200.00 for 750 iterations...\n",
      "Iteration   50, KL divergence 0.2063, 50 iterations in 0.5507 sec\n",
      "Iteration  100, KL divergence 0.2063, 50 iterations in 0.5532 sec\n",
      "Iteration  150, KL divergence 0.2063, 50 iterations in 0.5515 sec\n",
      "Iteration  200, KL divergence 0.2063, 50 iterations in 0.5540 sec\n",
      "Iteration  250, KL divergence 0.2063, 50 iterations in 0.5518 sec\n",
      "Iteration  300, KL divergence 0.2063, 50 iterations in 0.5541 sec\n",
      "Iteration  350, KL divergence 0.2063, 50 iterations in 0.5522 sec\n",
      "Iteration  400, KL divergence 0.2063, 50 iterations in 0.5541 sec\n",
      "Iteration  450, KL divergence 0.2063, 50 iterations in 0.5531 sec\n",
      "Iteration  500, KL divergence 0.2063, 50 iterations in 0.5538 sec\n",
      "Iteration  550, KL divergence 0.2063, 50 iterations in 0.5533 sec\n",
      "Iteration  600, KL divergence 0.2063, 50 iterations in 0.5542 sec\n",
      "Iteration  650, KL divergence 0.2063, 50 iterations in 0.5533 sec\n",
      "Iteration  700, KL divergence 0.2063, 50 iterations in 0.5521 sec\n",
      "Iteration  750, KL divergence 0.2063, 50 iterations in 0.5587 sec\n",
      "   --> Time elapsed: 8.30 seconds\n",
      "openTSNE: Optimization 11.085088968276978\n",
      "openTSNE: Full 11.117424249649048\n"
     ]
    }
   ],
   "source": [
    "openTSNEFFT = benchmark.openTSNEFFT()\n",
    "openTSNEFFT.run(n_samples=50, random_state=42)"
   ]
  },
  {
   "cell_type": "code",
   "execution_count": null,
   "id": "2b1a895a-e5cb-40dd-a2d2-bc63e8493526",
   "metadata": {},
   "outputs": [
    {
     "name": "stdout",
     "output_type": "stream",
     "text": [
      "--------------------------------------------------------------------------------\n",
      "Random state None\n",
      "--------------------------------------------------------------------------------\n",
      "Computing pairwise distances...\n"
     ]
    }
   ],
   "source": [
    "jaxTSNE = benchmark.jaxTSNE()\n",
    "jaxTSNE.run(n_samples=10)"
   ]
  },
  {
   "cell_type": "code",
   "execution_count": null,
   "id": "9fe348c3-1505-46aa-8dca-52465d452da9",
   "metadata": {},
   "outputs": [],
   "source": []
  }
 ],
 "metadata": {
  "kernelspec": {
   "display_name": "Python 3 (ipykernel)",
   "language": "python",
   "name": "python3"
  },
  "language_info": {
   "codemirror_mode": {
    "name": "ipython",
    "version": 3
   },
   "file_extension": ".py",
   "mimetype": "text/x-python",
   "name": "python",
   "nbconvert_exporter": "python",
   "pygments_lexer": "ipython3",
   "version": "3.8.12"
  }
 },
 "nbformat": 4,
 "nbformat_minor": 5
}
